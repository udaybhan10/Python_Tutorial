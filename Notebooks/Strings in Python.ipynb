{
 "cells": [
  {
   "cell_type": "markdown",
   "id": "a8116097",
   "metadata": {},
   "source": [
    "### Introduction\n",
    "In Python, a string is a sequence of characters enclosed in quotes, either single quotes ('') or double quotes (\"\"). Strings are one of the most commonly used data types in Python, and they are used to represent text-based information.\n",
    "\n",
    "You might wonder why strings are so important in programming. Well, consider all the text-based information we interact with on a daily basis, such as names, addresses, emails, and messages. In programming, we need to be able to store, manipulate, and output this type of information efficiently and effectively. This is where string variables come into play.\n",
    "\n",
    "So, let's dive into the world of string variables in Python and see how we can use them to represent and manipulate text-based data."
   ]
  },
  {
   "cell_type": "markdown",
   "id": "5465783b",
   "metadata": {},
   "source": [
    "### Creating and Assigning String Variables\n",
    "Now that we understand what string variables are and why they are important, let's explore how to create and assign string variables in Python.\n",
    "\n",
    "To create a string variable in Python, we simply need to enclose a sequence of characters in either single or double quotes. Here's an example:"
   ]
  },
  {
   "cell_type": "code",
   "execution_count": 1,
   "id": "fd6b8f31",
   "metadata": {},
   "outputs": [
    {
     "name": "stdout",
     "output_type": "stream",
     "text": [
      "Hello, world!\n",
      "Alice\n"
     ]
    }
   ],
   "source": [
    "# create a string variable using single quotes\n",
    "message = 'Hello, world!'\n",
    "print(message)\n",
    "\n",
    "# create a string variable using double quotes\n",
    "name = \"Alice\"\n",
    "print(name)"
   ]
  },
  {
   "cell_type": "markdown",
   "id": "512beba1",
   "metadata": {},
   "source": [
    "In this example, we created two string variables - message and name. The message variable contains the string \"Hello, world!\", and the name variable contains the string \"Alice\". We can use the print() function to output the value of these variables to the console.\n",
    "\n",
    "We can also assign a string to a variable name using the equal sign (=). Here's an example:"
   ]
  },
  {
   "cell_type": "code",
   "execution_count": 2,
   "id": "f11c5b66",
   "metadata": {},
   "outputs": [
    {
     "name": "stdout",
     "output_type": "stream",
     "text": [
      "Welcome to my YouTube channel!\n"
     ]
    }
   ],
   "source": [
    "# assign a string to a variable name\n",
    "greeting = \"Welcome to my YouTube channel!\"\n",
    "print(greeting)"
   ]
  },
  {
   "cell_type": "markdown",
   "id": "65a8c8bf",
   "metadata": {},
   "source": [
    "In this example, we assigned the string \"Welcome to my YouTube channel!\" to the variable name greeting. We can then use the print() function to output the value of the greeting variable to the console.\n",
    "\n",
    "**It's worth noting that in Python, there is no difference between single quotes and double quotes when it comes to creating string variables. We can use either one, depending on our preference or the specific requirements of our code.**"
   ]
  },
  {
   "cell_type": "markdown",
   "id": "355fa85f",
   "metadata": {},
   "source": [
    "### String Operations\n",
    "In Python, we can perform various operations on string variables. Let's explore some of the most commonly used string operations.\n",
    "\n",
    "**1. Concatenation**\n",
    "\n",
    "Concatenation is the process of combining two or more strings to form a new string. In Python, we can concatenate strings using the **plus ( + ) operator**. Here's an example:"
   ]
  },
  {
   "cell_type": "code",
   "execution_count": 3,
   "id": "a4beebb7",
   "metadata": {},
   "outputs": [
    {
     "name": "stdout",
     "output_type": "stream",
     "text": [
      "John Doe\n"
     ]
    }
   ],
   "source": [
    "# concatenate two strings\n",
    "first_name = \"John\"\n",
    "last_name = \"Doe\"\n",
    "full_name = first_name + \" \" + last_name\n",
    "print(full_name)"
   ]
  },
  {
   "cell_type": "markdown",
   "id": "4c737c34",
   "metadata": {},
   "source": [
    "In this example, we concatenated the strings \"John\" and \"Doe\" to form the full name \"John Doe\". We used the plus (+) operator to combine the strings, and we included a space between the first and last names."
   ]
  },
  {
   "cell_type": "markdown",
   "id": "9c189841",
   "metadata": {},
   "source": [
    "**2. Repetition**\n",
    "\n",
    "Repetition means repeating a string a certain number of times. In Python, we can repeat a string a certain number of times, using the  __star ( * ) operator__. Here's an example:"
   ]
  },
  {
   "cell_type": "code",
   "execution_count": 4,
   "id": "3de831a0",
   "metadata": {},
   "outputs": [
    {
     "name": "stdout",
     "output_type": "stream",
     "text": [
      "Hello Hello Hello \n"
     ]
    }
   ],
   "source": [
    "string = \"Hello \"\n",
    "\n",
    "repeated_string = string * 3\n",
    "print(repeated_string) # Output: Hello Hello Hello "
   ]
  },
  {
   "cell_type": "markdown",
   "id": "4d3caedc",
   "metadata": {},
   "source": [
    "In this example, we repeated the string \"Hello\" three times. We used star * operator to do so.\n",
    "\n",
    "**3. Indexing**\n",
    "\n",
    "To access an __individual character__ in a string, we need to do Indexing. In Python, you can use __square brackets [ ] and an index number__ to do indexing of a string. Here's an example:"
   ]
  },
  {
   "cell_type": "code",
   "execution_count": 5,
   "id": "25022800",
   "metadata": {},
   "outputs": [
    {
     "name": "stdout",
     "output_type": "stream",
     "text": [
      "H\n",
      "W\n"
     ]
    }
   ],
   "source": [
    "string = \"Hello, World!\"\n",
    "\n",
    "print(string[0]) # Output: H\n",
    "print(string[7]) # Output: W"
   ]
  },
  {
   "cell_type": "markdown",
   "id": "8c9b49fc",
   "metadata": {},
   "source": [
    "In this example, we did indexing to access the 1st and 8th character in the string  \"Hello, World!\"\n",
    "\n",
    "**4. Slicing**\n",
    "\n",
    "\n",
    "Slicing is the process of extracting a portion of a string. In Python, we can slice a string using square brackets [] and the start and end indices of the portion we want to extract. Here's an example:"
   ]
  },
  {
   "cell_type": "code",
   "execution_count": 6,
   "id": "2df389b3",
   "metadata": {},
   "outputs": [
    {
     "name": "stdout",
     "output_type": "stream",
     "text": [
      "Hello\n"
     ]
    }
   ],
   "source": [
    "# slice a string\n",
    "message = \"Hello, world!\"\n",
    "greeting = message[0:5]\n",
    "print(greeting)"
   ]
  },
  {
   "cell_type": "markdown",
   "id": "8bf2aa7b",
   "metadata": {},
   "source": [
    "In this example, we sliced the string \"Hello, world!\" to extract the first five characters, which are \"Hello\". We used square brackets [] to specify the start and end indices of the portion we wanted to extract.\n",
    "\n",
    "**5. Formatting**\n",
    "\n",
    "\n",
    "Formatting is the process of creating dynamic strings that include placeholders for values that can be substituted at runtime. In Python, we can format strings using the format() method or f-strings. Here's an example:"
   ]
  },
  {
   "cell_type": "code",
   "execution_count": 7,
   "id": "d8f5ac2c",
   "metadata": {},
   "outputs": [
    {
     "name": "stdout",
     "output_type": "stream",
     "text": [
      "My name is Alice and I am 25 years old\n",
      "Hello, Alice!\n"
     ]
    }
   ],
   "source": [
    "# format a string using the format() method\n",
    "name = \"Alice\"\n",
    "age = 25\n",
    "message = \"My name is {} and I am {} years old\".format(name, age)\n",
    "print(message)\n",
    "\n",
    "# format a string using f-strings\n",
    "greeting = f\"Hello, {name}!\"\n",
    "print(greeting)"
   ]
  },
  {
   "cell_type": "markdown",
   "id": "8982f432",
   "metadata": {},
   "source": [
    "In this example, we formatted a string to include the values of the name and age variables using the format() method and f-strings, respectively. The placeholders {} and {} in the first example are replaced by the values of name and age, respectively, while the variable name is directly included in the string in the second example.\n",
    "\n",
    "**6. Immutable nature**\n",
    "\n",
    "It's important to note that strings in Python are immutable. This means that once a string variable is created, its contents cannot be changed. Instead, any operations that modify the string actually create a new string object in memory. We can only create new strings based on existing strings. \n",
    "\n",
    "For example, let's consider the following code:"
   ]
  },
  {
   "cell_type": "code",
   "execution_count": 8,
   "id": "8ed5616f",
   "metadata": {},
   "outputs": [
    {
     "ename": "TypeError",
     "evalue": "'str' object does not support item assignment",
     "output_type": "error",
     "traceback": [
      "\u001b[1;31m---------------------------------------------------------------------------\u001b[0m",
      "\u001b[1;31mTypeError\u001b[0m                                 Traceback (most recent call last)",
      "Cell \u001b[1;32mIn[8], line 2\u001b[0m\n\u001b[0;32m      1\u001b[0m my_string \u001b[38;5;241m=\u001b[39m \u001b[38;5;124m\"\u001b[39m\u001b[38;5;124mhello\u001b[39m\u001b[38;5;124m\"\u001b[39m\n\u001b[1;32m----> 2\u001b[0m \u001b[43mmy_string\u001b[49m\u001b[43m[\u001b[49m\u001b[38;5;241;43m0\u001b[39;49m\u001b[43m]\u001b[49m \u001b[38;5;241m=\u001b[39m \u001b[38;5;124m\"\u001b[39m\u001b[38;5;124mH\u001b[39m\u001b[38;5;124m\"\u001b[39m\n",
      "\u001b[1;31mTypeError\u001b[0m: 'str' object does not support item assignment"
     ]
    }
   ],
   "source": [
    "my_string = \"hello\"\n",
    "my_string[0] = \"H\""
   ]
  },
  {
   "cell_type": "markdown",
   "id": "f43d262e",
   "metadata": {},
   "source": [
    "When we try to modify the first character of my_string to be an uppercase \"H\", we get a TypeError that says \"string does not support item assignment\". This is because strings are immutable in Python.\n",
    "\n",
    "However, we can create a new string object that contains the modified text like this:"
   ]
  },
  {
   "cell_type": "code",
   "execution_count": 9,
   "id": "9ec11a88",
   "metadata": {},
   "outputs": [
    {
     "name": "stdout",
     "output_type": "stream",
     "text": [
      "Hello\n"
     ]
    }
   ],
   "source": [
    "my_string = \"hello\"\n",
    "new_string = \"H\" + my_string[1:]\n",
    "print(new_string)"
   ]
  },
  {
   "cell_type": "markdown",
   "id": "c37228e1",
   "metadata": {},
   "source": [
    "In this example, we create a new string object new_string by concatenating the uppercase letter \"H\" with a slice of the original my_string that starts at the second character (index 1) and goes to the end of the string. This effectively creates a new string object that contains the modified text \"Hello\"."
   ]
  },
  {
   "cell_type": "markdown",
   "id": "05e597a1",
   "metadata": {},
   "source": [
    "### String Methods\n",
    "In Python, we can use various built-in string methods to manipulate and work with string variables. Let's explore some of the most commonly used string methods.\n",
    "\n",
    "**1. len()**\n",
    "\n",
    "The len() method returns the length of a string, which is the number of characters in the string. Here's an example:"
   ]
  },
  {
   "cell_type": "code",
   "execution_count": 10,
   "id": "ac48cac2",
   "metadata": {},
   "outputs": [
    {
     "name": "stdout",
     "output_type": "stream",
     "text": [
      "13\n"
     ]
    }
   ],
   "source": [
    "# get the length of a string\n",
    "message = \"Hello, world!\"\n",
    "length = len(message)\n",
    "print(length)"
   ]
  },
  {
   "cell_type": "markdown",
   "id": "e4e356e7",
   "metadata": {},
   "source": [
    "In this example, we used the len() method to get the length of the string \"Hello, world!\", which is 13. We assigned this value to the variable length and then printed it to the console.\n",
    "\n",
    "**2. lower() and upper()**\n",
    "The lower() and upper() methods convert a string to lowercase and uppercase, respectively. Here's an example:"
   ]
  },
  {
   "cell_type": "code",
   "execution_count": 11,
   "id": "9bfecf63",
   "metadata": {},
   "outputs": [
    {
     "name": "stdout",
     "output_type": "stream",
     "text": [
      "alice\n",
      "ALICE\n"
     ]
    }
   ],
   "source": [
    "# convert a string to lowercase or uppercase\n",
    "name = \"Alice\"\n",
    "lower_name = name.lower()\n",
    "upper_name = name.upper()\n",
    "print(lower_name)\n",
    "print(upper_name)"
   ]
  },
  {
   "cell_type": "markdown",
   "id": "f1a7d972",
   "metadata": {},
   "source": [
    "In this example, we used the lower() and upper() methods to convert the string \"Alice\" to lowercase and uppercase, respectively. We assigned these values to the variables lower_name and upper_name and then printed them to the console.\n",
    "\n",
    "**3. strip()**\n",
    "\n",
    "The strip() method removes any leading or trailing whitespace from a string. Here's an example:"
   ]
  },
  {
   "cell_type": "code",
   "execution_count": 12,
   "id": "28f3a4d9",
   "metadata": {},
   "outputs": [
    {
     "name": "stdout",
     "output_type": "stream",
     "text": [
      "Hello, world!\n"
     ]
    }
   ],
   "source": [
    "# remove leading and trailing whitespace from a string\n",
    "message = \"  Hello, world!  \"\n",
    "stripped_message = message.strip()\n",
    "print(stripped_message)"
   ]
  },
  {
   "cell_type": "markdown",
   "id": "bcb57dcd",
   "metadata": {},
   "source": [
    "In this example, we used the strip() method to remove the leading and trailing whitespace from the string \" Hello, world! \". We assigned the resulting string to the variable stripped_message and then printed it to the console.\n",
    "\n",
    "**4. split()**\n",
    "\n",
    "The split() method splits a string into a list of substrings based on a specified delimiter. Here's an example:"
   ]
  },
  {
   "cell_type": "code",
   "execution_count": 13,
   "id": "42d5b17a",
   "metadata": {},
   "outputs": [
    {
     "name": "stdout",
     "output_type": "stream",
     "text": [
      "['The', 'quick', 'brown', 'fox', 'jumps', 'over', 'the', 'lazy', 'dog']\n"
     ]
    }
   ],
   "source": [
    "# split a string into a list of substrings\n",
    "sentence = \"The quick brown fox jumps over the lazy dog\"\n",
    "words = sentence.split()\n",
    "print(words)"
   ]
  },
  {
   "cell_type": "markdown",
   "id": "8cb061d8",
   "metadata": {},
   "source": [
    "In this example, we used the split() method to split the string \"The quick brown fox jumps over the lazy dog\" into a list of words. By default, the split() method splits the string at whitespace characters, such as spaces and tabs. We assigned the resulting list to the variable words and then printed it to the console.\n",
    "\n",
    "**5. replace()**\n",
    "\n",
    "The replace() method replaces all occurrences of a specified substring in a string with another substring. Here's an example:"
   ]
  },
  {
   "cell_type": "code",
   "execution_count": 14,
   "id": "590e9146",
   "metadata": {},
   "outputs": [
    {
     "name": "stdout",
     "output_type": "stream",
     "text": [
      "Hello, Python!\n"
     ]
    }
   ],
   "source": [
    "# replace a substring in a string with another substring\n",
    "message = \"Hello, world!\"\n",
    "new_message = message.replace(\"world\", \"Python\")\n",
    "print(new_message)"
   ]
  },
  {
   "cell_type": "markdown",
   "id": "a7ec73b3",
   "metadata": {},
   "source": [
    "In this example, we used the replace() method to replace the substring \"world\" in the string \"Hello, world!\" with the substring \"Python\". We assigned the resulting string to the variable new_message and then printed it to the console.\n",
    "\n",
    "In summary, we can use various built-in string methods in Python to manipulate and work with string variables, including len(), lower(), upper(), strip(), split(), and replace()."
   ]
  },
  {
   "cell_type": "markdown",
   "id": "e0b3e130",
   "metadata": {},
   "source": [
    "### Conclusion\n",
    "In conclusion, string variables are a fundamental data type in Python that allow us to store and manipulate text data. We can create and assign string variables using quotes, and we can use various string operations and methods to work with them. Some common string operations include concatenation, slicing, and indexing, while some common string methods include len(), lower(), upper(), strip(), split(), and replace(). By understanding how to use these string operations and methods, we can write more effective Python programs that are able to process and analyze text data."
   ]
  }
 ],
 "metadata": {
  "kernelspec": {
   "display_name": "Python 3 (ipykernel)",
   "language": "python",
   "name": "python3"
  },
  "language_info": {
   "codemirror_mode": {
    "name": "ipython",
    "version": 3
   },
   "file_extension": ".py",
   "mimetype": "text/x-python",
   "name": "python",
   "nbconvert_exporter": "python",
   "pygments_lexer": "ipython3",
   "version": "3.10.9"
  }
 },
 "nbformat": 4,
 "nbformat_minor": 5
}
