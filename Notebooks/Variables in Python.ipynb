{
 "cells": [
  {
   "cell_type": "markdown",
   "id": "022b653c",
   "metadata": {},
   "source": [
    "### Variables in Python"
   ]
  },
  {
   "cell_type": "markdown",
   "id": "810ecc68",
   "metadata": {},
   "source": [
    "**Variables are the name of locations in memory where we can store values. They play a crucial role in programming by allowing us to store and manipulate data in a program. Without variables, it would be difficult to write programs that perform complex tasks, such as processing large amounts of data, making decisions based on user input, or performing repetitive tasks.**\n",
    "\n",
    "Variables are named so that we can easily reference them later in our code. When we assign a value to a variable, the value is stored in memory and the variable becomes a reference to that value. This allows us to use the variable throughout our code, without having to remember the actual value.\n",
    "\n",
    "For example, consider a program that needs to keep track of a user's age. We could create a variable called age and assign the value 30 to it:"
   ]
  },
  {
   "cell_type": "code",
   "execution_count": 1,
   "id": "0fde0e39",
   "metadata": {},
   "outputs": [],
   "source": [
    "age = 30"
   ]
  },
  {
   "cell_type": "markdown",
   "id": "9e8f68e7",
   "metadata": {},
   "source": [
    "Now, whenever we need to use the user's age in our code, we can simply reference the age variable, rather than having to remember the actual value of 30. This makes our code easier to read and maintain, as the meaning of the age variable is clear and easy to understand."
   ]
  },
  {
   "cell_type": "code",
   "execution_count": 2,
   "id": "2e1062bb",
   "metadata": {},
   "outputs": [
    {
     "name": "stdout",
     "output_type": "stream",
     "text": [
      "30\n"
     ]
    }
   ],
   "source": [
    "print(age)"
   ]
  },
  {
   "cell_type": "markdown",
   "id": "aec6ecff",
   "metadata": {},
   "source": [
    "In addition to making our code easier to understand, variables also make it easier to modify and reuse our code. For example, if we need to change the user's age in our program, we can simply assign a new value to the age variable, rather than having to search through our code for every instance of the value 30."
   ]
  },
  {
   "cell_type": "code",
   "execution_count": 3,
   "id": "3f31b6db",
   "metadata": {},
   "outputs": [],
   "source": [
    "age = 35"
   ]
  },
  {
   "cell_type": "code",
   "execution_count": 4,
   "id": "d8161e45",
   "metadata": {},
   "outputs": [
    {
     "name": "stdout",
     "output_type": "stream",
     "text": [
      "35\n"
     ]
    }
   ],
   "source": [
    "print(age)"
   ]
  },
  {
   "cell_type": "markdown",
   "id": "fcf20123",
   "metadata": {},
   "source": [
    "In conclusion, variables are important in programming because they allow us to store and manipulate data in a program. They make our code easier to read, understand, modify, and reuse, which is essential for writing efficient and effective programs."
   ]
  },
  {
   "cell_type": "markdown",
   "id": "f9c271d9",
   "metadata": {},
   "source": [
    "### Rules in python for variables"
   ]
  },
  {
   "cell_type": "markdown",
   "id": "b49b686a",
   "metadata": {},
   "source": [
    "In Python, there are a few rules to follow when naming variables:\n",
    "\n",
    "1) Variable names can only contain letters, numbers, and underscores.\n",
    "2) Variable names cannot start with a number.\n",
    "3) Variable names should not contain spaces.\n",
    "4) Variable names should not be the same as Python keywords (e.g. for, while, if, else, etc.).\n",
    "5) Variable names should be descriptive and meaningful.\n",
    "\n",
    "It's also a good practice to use snake_case for naming variables, which means using lowercase letters and separating words with underscores. For example: my_variable, student_age, etc.\n",
    "\n",
    "It's important to follow these rules and naming conventions because they make your code easier to read and understand. Additionally, following these rules helps avoid errors and makes it easier to maintain your code over time."
   ]
  },
  {
   "cell_type": "markdown",
   "id": "d63bfc38",
   "metadata": {},
   "source": [
    "#### Valid variable names\n",
    "__age__\n",
    "\n",
    "**student_name**\n",
    "\n",
    "**total_students**\n",
    "\n",
    "**_private_variable**"
   ]
  },
  {
   "cell_type": "markdown",
   "id": "eb021f90",
   "metadata": {},
   "source": [
    "#### Invalid variables names\n",
    "**1st_student** (starts with a number)\n",
    "\n",
    "**student name** (contains a space)\n",
    "\n",
    "**student-name** (contains a hyphen)\n",
    "\n",
    "**for** (same as a Python keyword)\n",
    "\n",
    "**while** (same as a Python keyword)\n",
    "\n",
    "**if** (same as a Python keyword)\n",
    "\n",
    "**True** "
   ]
  },
  {
   "cell_type": "markdown",
   "id": "aa4d8dcf",
   "metadata": {},
   "source": [
    "### Different Types of Variable in Python\n",
    "\n",
    "In Python, there are several different types of variables, including: __Integer, Float, String, Boolean, List, Tuple and Dictionary.__  "
   ]
  },
  {
   "cell_type": "markdown",
   "id": "46024b76",
   "metadata": {},
   "source": [
    "### Storing numbers in variables in Python"
   ]
  },
  {
   "cell_type": "markdown",
   "id": "7850d021",
   "metadata": {},
   "source": [
    "In Python, there are several data types used to store numbers, including:"
   ]
  },
  {
   "cell_type": "markdown",
   "id": "30f0d14b",
   "metadata": {},
   "source": [
    "1) **int (integer)** - used to store whole numbers, such as 1, 2, 3, etc."
   ]
  },
  {
   "cell_type": "code",
   "execution_count": 5,
   "id": "33062f1c",
   "metadata": {},
   "outputs": [],
   "source": [
    "a = 10\n",
    "b = -5"
   ]
  },
  {
   "cell_type": "code",
   "execution_count": 6,
   "id": "693061d4",
   "metadata": {},
   "outputs": [
    {
     "name": "stdout",
     "output_type": "stream",
     "text": [
      "a : 10\n",
      "<class 'int'>\n"
     ]
    }
   ],
   "source": [
    "print('a :', a)\n",
    "\n",
    "print(type(a))"
   ]
  },
  {
   "cell_type": "markdown",
   "id": "f31f8f20",
   "metadata": {},
   "source": [
    "2) **float (floating-point number)** - used to store numbers with a fractional part, such as 3.14, 1.0, etc."
   ]
  },
  {
   "cell_type": "code",
   "execution_count": 7,
   "id": "0639208f",
   "metadata": {
    "scrolled": true
   },
   "outputs": [],
   "source": [
    "c = 3.14\n",
    "d = 0.5"
   ]
  },
  {
   "cell_type": "code",
   "execution_count": 8,
   "id": "8cb01e6d",
   "metadata": {},
   "outputs": [
    {
     "name": "stdout",
     "output_type": "stream",
     "text": [
      "c : 3.14\n",
      "<class 'float'>\n"
     ]
    }
   ],
   "source": [
    "print('c :', c)\n",
    "\n",
    "print(type(c))"
   ]
  },
  {
   "cell_type": "markdown",
   "id": "78c80efd",
   "metadata": {},
   "source": [
    "3) **complex (complex number)** - used to store complex numbers, such as 2 + 3j, where j represents the imaginary unit."
   ]
  },
  {
   "cell_type": "code",
   "execution_count": 9,
   "id": "7efbac5e",
   "metadata": {},
   "outputs": [],
   "source": [
    "x = 2 + 3j\n",
    "y = 4.5 + 7j"
   ]
  },
  {
   "cell_type": "code",
   "execution_count": 10,
   "id": "88b91dc4",
   "metadata": {
    "scrolled": true
   },
   "outputs": [
    {
     "name": "stdout",
     "output_type": "stream",
     "text": [
      "x : (2+3j)\n",
      "<class 'complex'>\n"
     ]
    }
   ],
   "source": [
    "print('x :', x)\n",
    "\n",
    "print(type(x))"
   ]
  },
  {
   "cell_type": "markdown",
   "id": "27b3ef1f",
   "metadata": {},
   "source": [
    "You can perform arithmetic operations on these numbers, such as **addition, subtraction, multiplication, division,** etc. For example:"
   ]
  },
  {
   "cell_type": "code",
   "execution_count": 11,
   "id": "a71034f6",
   "metadata": {},
   "outputs": [],
   "source": [
    "x1 = 10\n",
    "x2 = 5\n",
    "Add = x1 + x2 # result = 15\n",
    "Sub = x1 - x2\n",
    "Multi = x1 * x2\n",
    "Div = x1 // x2"
   ]
  },
  {
   "cell_type": "code",
   "execution_count": 12,
   "id": "94dfeef1",
   "metadata": {},
   "outputs": [
    {
     "name": "stdout",
     "output_type": "stream",
     "text": [
      "Addition : 15\n",
      "subtraction : 5\n",
      "Multiplication : 50\n",
      "Division : 2\n"
     ]
    }
   ],
   "source": [
    "print(\"Addition :\", Add)\n",
    "print(\"subtraction :\", Sub)\n",
    "print(\"Multiplication :\", Multi)\n",
    "print(\"Division :\", Div)"
   ]
  },
  {
   "cell_type": "markdown",
   "id": "6cb4690b",
   "metadata": {},
   "source": [
    "### Storing text in variables in Python"
   ]
  },
  {
   "cell_type": "markdown",
   "id": "08e98923",
   "metadata": {},
   "source": [
    "In Python, text data is stored as strings. A string is a sequence of characters, such as words, sentences, or paragraphs. You can define a string by enclosing characters in either single or double quotes:"
   ]
  },
  {
   "cell_type": "code",
   "execution_count": 13,
   "id": "df6c5d0f",
   "metadata": {},
   "outputs": [],
   "source": [
    "string1 = \"Hello, World!\"\n",
    "string2 = 'How are you?'"
   ]
  },
  {
   "cell_type": "code",
   "execution_count": 14,
   "id": "616b646a",
   "metadata": {},
   "outputs": [
    {
     "name": "stdout",
     "output_type": "stream",
     "text": [
      "<class 'str'>\n"
     ]
    }
   ],
   "source": [
    "print(type(string2))"
   ]
  },
  {
   "cell_type": "markdown",
   "id": "c8a13916",
   "metadata": {},
   "source": [
    "You can perform various operations on strings, such as **concatenation** (joining two strings together), **repetition** (repeating a string a certain number of times), and **indexing** (accessing individual characters in a string).\n",
    "\n",
    "For example, to **concatenate** two strings, you can use the **+ operator:**"
   ]
  },
  {
   "cell_type": "code",
   "execution_count": 15,
   "id": "bdfdebd8",
   "metadata": {},
   "outputs": [],
   "source": [
    "string1 = \"Hello\"\n",
    "string2 = \" World!\""
   ]
  },
  {
   "cell_type": "code",
   "execution_count": 16,
   "id": "563cd529",
   "metadata": {},
   "outputs": [
    {
     "name": "stdout",
     "output_type": "stream",
     "text": [
      "Hello World!\n"
     ]
    }
   ],
   "source": [
    "string3 = string1 + string2\n",
    "\n",
    "print(string3) # Output: Hello World!"
   ]
  },
  {
   "cell_type": "markdown",
   "id": "0310c92d",
   "metadata": {},
   "source": [
    "To **repeat** a string a certain number of times, you can use the  __* operator:__"
   ]
  },
  {
   "cell_type": "code",
   "execution_count": 17,
   "id": "b0747f90",
   "metadata": {},
   "outputs": [
    {
     "name": "stdout",
     "output_type": "stream",
     "text": [
      "Hello Hello Hello \n"
     ]
    }
   ],
   "source": [
    "string = \"Hello \"\n",
    "\n",
    "repeated_string = string * 3\n",
    "print(repeated_string) # Output: Hello Hello Hello "
   ]
  },
  {
   "cell_type": "markdown",
   "id": "3b7cfe62",
   "metadata": {},
   "source": [
    "To access an __individual character__ in a string, you can use __square brackets [ ] and an index number:__"
   ]
  },
  {
   "cell_type": "code",
   "execution_count": 18,
   "id": "e2cf2de5",
   "metadata": {},
   "outputs": [
    {
     "name": "stdout",
     "output_type": "stream",
     "text": [
      "H\n",
      "W\n"
     ]
    }
   ],
   "source": [
    "string = \"Hello, World!\"\n",
    "\n",
    "print(string[0]) # Output: H\n",
    "print(string[7]) # Output: W"
   ]
  },
  {
   "cell_type": "markdown",
   "id": "dc1a3a2a",
   "metadata": {},
   "source": [
    "__Note : It's important to note that in Python, strings are immutable, which means that once a string is created, you cannot change individual characters within the string. However, you can create a new string by concatenating or repeating existing strings.__"
   ]
  },
  {
   "cell_type": "markdown",
   "id": "8073bb80",
   "metadata": {},
   "source": [
    "### Some other type of Variables in Python"
   ]
  },
  {
   "cell_type": "markdown",
   "id": "f3c7db7c",
   "metadata": {},
   "source": [
    "**Boolean:** Boolean variables are used to store the values True or False. They are often used to represent the result of a condition or comparison. For example:"
   ]
  },
  {
   "cell_type": "code",
   "execution_count": 19,
   "id": "e4ff2da6",
   "metadata": {},
   "outputs": [],
   "source": [
    "is_logged_in = False"
   ]
  },
  {
   "cell_type": "code",
   "execution_count": 20,
   "id": "29bbe157",
   "metadata": {},
   "outputs": [
    {
     "name": "stdout",
     "output_type": "stream",
     "text": [
      "<class 'bool'>\n"
     ]
    }
   ],
   "source": [
    "print(type(is_logged_in))"
   ]
  },
  {
   "cell_type": "markdown",
   "id": "8eb35e1b",
   "metadata": {},
   "source": [
    "**List:** Lists are ordered collections of values, which can be of any type. For example:"
   ]
  },
  {
   "cell_type": "code",
   "execution_count": 21,
   "id": "a8a26b97",
   "metadata": {},
   "outputs": [],
   "source": [
    "fruits = ['apple', 'banana', 'cherry']\n",
    "fruits[2] = \"mango\""
   ]
  },
  {
   "cell_type": "code",
   "execution_count": 22,
   "id": "2c19f6b9",
   "metadata": {},
   "outputs": [
    {
     "name": "stdout",
     "output_type": "stream",
     "text": [
      "<class 'list'>\n"
     ]
    }
   ],
   "source": [
    "print(type(fruits))"
   ]
  },
  {
   "cell_type": "code",
   "execution_count": 23,
   "id": "c60a3a64",
   "metadata": {},
   "outputs": [
    {
     "name": "stdout",
     "output_type": "stream",
     "text": [
      "['apple', 'banana', 'mango']\n"
     ]
    }
   ],
   "source": [
    "print((fruits))"
   ]
  },
  {
   "cell_type": "markdown",
   "id": "2bc8b4de",
   "metadata": {},
   "source": [
    "**Tuple:** Tuples are similar to lists, but they are immutable and cannot be modified once created. For example:"
   ]
  },
  {
   "cell_type": "code",
   "execution_count": 24,
   "id": "2ba2be9f",
   "metadata": {},
   "outputs": [],
   "source": [
    "coordinates = (10, 20)"
   ]
  },
  {
   "cell_type": "code",
   "execution_count": 25,
   "id": "c94801da",
   "metadata": {},
   "outputs": [
    {
     "name": "stdout",
     "output_type": "stream",
     "text": [
      "<class 'tuple'>\n"
     ]
    }
   ],
   "source": [
    "print(type(coordinates))"
   ]
  },
  {
   "cell_type": "code",
   "execution_count": 26,
   "id": "51ebbc4d",
   "metadata": {},
   "outputs": [
    {
     "ename": "TypeError",
     "evalue": "'tuple' object does not support item assignment",
     "output_type": "error",
     "traceback": [
      "\u001b[1;31m---------------------------------------------------------------------------\u001b[0m",
      "\u001b[1;31mTypeError\u001b[0m                                 Traceback (most recent call last)",
      "Cell \u001b[1;32mIn[26], line 1\u001b[0m\n\u001b[1;32m----> 1\u001b[0m \u001b[43mcoordinates\u001b[49m\u001b[43m[\u001b[49m\u001b[38;5;241;43m1\u001b[39;49m\u001b[43m]\u001b[49m \u001b[38;5;241m=\u001b[39m \u001b[38;5;241m15\u001b[39m\n",
      "\u001b[1;31mTypeError\u001b[0m: 'tuple' object does not support item assignment"
     ]
    }
   ],
   "source": [
    "coordinates[1] = 15"
   ]
  },
  {
   "cell_type": "markdown",
   "id": "35cefa7e",
   "metadata": {},
   "source": [
    "**Dictionary:** Dictionaries are unordered collections of key-value pairs, where each key is associated with a value. For example:"
   ]
  },
  {
   "cell_type": "code",
   "execution_count": 27,
   "id": "b59f1234",
   "metadata": {},
   "outputs": [],
   "source": [
    "person = {'name': 'John Doe', 'age': 25}"
   ]
  },
  {
   "cell_type": "code",
   "execution_count": 28,
   "id": "de611f3a",
   "metadata": {},
   "outputs": [
    {
     "name": "stdout",
     "output_type": "stream",
     "text": [
      "<class 'dict'>\n"
     ]
    }
   ],
   "source": [
    "print(type(person))"
   ]
  },
  {
   "cell_type": "markdown",
   "id": "0b3dce34",
   "metadata": {},
   "source": [
    "### Conclusion\n",
    "These are the most commonly used variable types in Python, but there are also other types, such as sets, arrays, and more. Understanding the different types of variables is important, as it affects the way that you can use and manipulate the values stored in the variables."
   ]
  }
 ],
 "metadata": {
  "kernelspec": {
   "display_name": "Python 3 (ipykernel)",
   "language": "python",
   "name": "python3"
  },
  "language_info": {
   "codemirror_mode": {
    "name": "ipython",
    "version": 3
   },
   "file_extension": ".py",
   "mimetype": "text/x-python",
   "name": "python",
   "nbconvert_exporter": "python",
   "pygments_lexer": "ipython3",
   "version": "3.10.9"
  }
 },
 "nbformat": 4,
 "nbformat_minor": 5
}
