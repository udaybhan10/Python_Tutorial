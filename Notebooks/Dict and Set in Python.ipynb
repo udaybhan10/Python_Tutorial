{
 "cells": [
  {
   "cell_type": "markdown",
   "id": "f70e8551",
   "metadata": {},
   "source": [
    "## Dictionaries in Python\n",
    "A dictionary is a data structure in Python that allows you to store key-value pairs. Each key in a dictionary is unique, and the associated value can be of any data type, including another dictionary.\n",
    "\n",
    "Dictionaries are a powerful tool in Python and can be used in a variety of applications, such as building databases, managing configuration files, and storing large amounts of data. Understanding how to use dictionaries effectively can be a valuable skill for any Python programmer.\n",
    "### Creating a dictionary\n",
    "You can create a dictionary in Python by enclosing a comma-separated list of key-value pairs in curly braces {}. For example:"
   ]
  },
  {
   "cell_type": "code",
   "execution_count": 1,
   "id": "ccc1441d",
   "metadata": {},
   "outputs": [],
   "source": [
    "my_dict = {'key1': 'value1', 'key2': 2, 'key3': [1, 2, 3]}"
   ]
  },
  {
   "cell_type": "markdown",
   "id": "49e7f2ba",
   "metadata": {},
   "source": [
    "### Accessing dictionary values\n",
    "You can access the values in a dictionary by using the key as the index. For example:"
   ]
  },
  {
   "cell_type": "code",
   "execution_count": 2,
   "id": "4f8984a5",
   "metadata": {},
   "outputs": [
    {
     "name": "stdout",
     "output_type": "stream",
     "text": [
      "value1\n"
     ]
    }
   ],
   "source": [
    "print(my_dict['key1'])  # output: 'value1'"
   ]
  },
  {
   "cell_type": "markdown",
   "id": "174659b4",
   "metadata": {},
   "source": [
    "### Modifying dictionary values\n",
    "You can modify the values in a dictionary by assigning a new value to the key. For example:"
   ]
  },
  {
   "cell_type": "code",
   "execution_count": 3,
   "id": "93e39406",
   "metadata": {},
   "outputs": [
    {
     "name": "stdout",
     "output_type": "stream",
     "text": [
      "3\n"
     ]
    }
   ],
   "source": [
    "my_dict['key2'] = 3\n",
    "print(my_dict['key2'])  # output: 3"
   ]
  },
  {
   "cell_type": "markdown",
   "id": "ac6e4580",
   "metadata": {},
   "source": [
    "### Adding new key-value pairs\n",
    "You can add a new key-value pair to a dictionary by assigning a value to a new key. For example:"
   ]
  },
  {
   "cell_type": "code",
   "execution_count": 4,
   "id": "3221eaf2",
   "metadata": {},
   "outputs": [],
   "source": [
    "my_dict['key4'] = 'new value'"
   ]
  },
  {
   "cell_type": "code",
   "execution_count": 5,
   "id": "15565e67",
   "metadata": {},
   "outputs": [
    {
     "name": "stdout",
     "output_type": "stream",
     "text": [
      "{'key1': 'value1', 'key2': 3, 'key3': [1, 2, 3], 'key4': 'new value'}\n"
     ]
    }
   ],
   "source": [
    "print(my_dict)"
   ]
  },
  {
   "cell_type": "markdown",
   "id": "54d9b9ac",
   "metadata": {},
   "source": [
    "### Removing key-value pairs\n",
    "You can remove a key-value pair from a dictionary using the del keyword. For example:"
   ]
  },
  {
   "cell_type": "code",
   "execution_count": 6,
   "id": "6333fea6",
   "metadata": {},
   "outputs": [],
   "source": [
    "del my_dict['key3']"
   ]
  },
  {
   "cell_type": "code",
   "execution_count": 7,
   "id": "9b81e0ec",
   "metadata": {},
   "outputs": [
    {
     "name": "stdout",
     "output_type": "stream",
     "text": [
      "{'key1': 'value1', 'key2': 3, 'key4': 'new value'}\n"
     ]
    }
   ],
   "source": [
    "print(my_dict)"
   ]
  },
  {
   "cell_type": "markdown",
   "id": "c5169ad3",
   "metadata": {},
   "source": [
    "### Dictionary methods\n",
    "There are several built-in methods in Python that you can use to manipulate dictionaries. Some of the most common ones are:\n",
    "\n",
    "**keys():** Returns a list of all the keys in the dictionary. Example:"
   ]
  },
  {
   "cell_type": "code",
   "execution_count": 8,
   "id": "1da276a0",
   "metadata": {},
   "outputs": [
    {
     "name": "stdout",
     "output_type": "stream",
     "text": [
      "dict_keys(['apple', 'banana', 'orange'])\n"
     ]
    }
   ],
   "source": [
    "# Creating a dictionary\n",
    "my_dict = {'apple': 5, 'banana': 10, 'orange': 15}\n",
    "\n",
    "keys = my_dict.keys()\n",
    "print(keys) # Output: dict_keys(['apple', 'banana', 'orange'])"
   ]
  },
  {
   "cell_type": "markdown",
   "id": "53779c41",
   "metadata": {},
   "source": [
    "**values():** Returns a list of all the values in the dictionary. Example:"
   ]
  },
  {
   "cell_type": "code",
   "execution_count": 9,
   "id": "32a75f2e",
   "metadata": {},
   "outputs": [
    {
     "name": "stdout",
     "output_type": "stream",
     "text": [
      "dict_values([5, 10, 15])\n"
     ]
    }
   ],
   "source": [
    "values = my_dict.values()\n",
    "print(values) # Output: dict_values([5, 10, 15])"
   ]
  },
  {
   "cell_type": "markdown",
   "id": "20db1a19",
   "metadata": {},
   "source": [
    "**items():** Returns a list of all the key-value pairs in the dictionary as tuples. Example:"
   ]
  },
  {
   "cell_type": "code",
   "execution_count": 10,
   "id": "215b0d36",
   "metadata": {},
   "outputs": [
    {
     "name": "stdout",
     "output_type": "stream",
     "text": [
      "dict_items([('apple', 5), ('banana', 10), ('orange', 15)])\n"
     ]
    }
   ],
   "source": [
    "items = my_dict.items()\n",
    "print(items) # Output: dict_items([('apple', 5), ('banana', 10), ('orange', 15)])"
   ]
  },
  {
   "cell_type": "markdown",
   "id": "8dc26221",
   "metadata": {},
   "source": [
    "**copy():** Creates a copy of the dictionary. Example:"
   ]
  },
  {
   "cell_type": "code",
   "execution_count": 11,
   "id": "119cce1f",
   "metadata": {},
   "outputs": [
    {
     "name": "stdout",
     "output_type": "stream",
     "text": [
      "{'apple': 5, 'banana': 10, 'orange': 15}\n"
     ]
    }
   ],
   "source": [
    "my_dict_copy = my_dict.copy()\n",
    "print(my_dict_copy) # Output: {'apple': 5, 'banana': 10, 'orange': 15}"
   ]
  },
  {
   "cell_type": "markdown",
   "id": "2ef2d558",
   "metadata": {},
   "source": [
    "**clear():** Removes all items from the dictionary. Example:"
   ]
  },
  {
   "cell_type": "code",
   "execution_count": 12,
   "id": "21cb5fa1",
   "metadata": {
    "scrolled": true
   },
   "outputs": [
    {
     "name": "stdout",
     "output_type": "stream",
     "text": [
      "{}\n",
      "{'apple': 5, 'banana': 10, 'orange': 15}\n"
     ]
    }
   ],
   "source": [
    "my_dict.clear()\n",
    "print(my_dict) # Output: {}\n",
    "print(my_dict_copy) # Output: {'apple': 5, 'banana': 10, 'orange': 15}"
   ]
  },
  {
   "cell_type": "markdown",
   "id": "7cc67eb9",
   "metadata": {},
   "source": [
    "### Conclusion\n",
    "To summarize, dictionaries are a built-in data structure in Python that allow you to store collections of key-value pairs. They are implemented as hash tables, which means that they provide very fast lookup times for values based on their keys."
   ]
  },
  {
   "cell_type": "code",
   "execution_count": null,
   "id": "d1ae79e7",
   "metadata": {},
   "outputs": [],
   "source": []
  },
  {
   "cell_type": "code",
   "execution_count": null,
   "id": "5a642d67",
   "metadata": {},
   "outputs": [],
   "source": []
  },
  {
   "cell_type": "code",
   "execution_count": null,
   "id": "bb6d470d",
   "metadata": {},
   "outputs": [],
   "source": []
  },
  {
   "cell_type": "code",
   "execution_count": null,
   "id": "54b5dff7",
   "metadata": {},
   "outputs": [],
   "source": []
  },
  {
   "cell_type": "code",
   "execution_count": null,
   "id": "e5614468",
   "metadata": {},
   "outputs": [],
   "source": []
  },
  {
   "cell_type": "code",
   "execution_count": null,
   "id": "828c1cbf",
   "metadata": {},
   "outputs": [],
   "source": []
  },
  {
   "cell_type": "code",
   "execution_count": null,
   "id": "6d3f1776",
   "metadata": {},
   "outputs": [],
   "source": []
  },
  {
   "cell_type": "code",
   "execution_count": null,
   "id": "f713dc32",
   "metadata": {},
   "outputs": [],
   "source": []
  },
  {
   "cell_type": "code",
   "execution_count": null,
   "id": "1ac23d20",
   "metadata": {},
   "outputs": [],
   "source": []
  },
  {
   "cell_type": "code",
   "execution_count": null,
   "id": "bdfa9fca",
   "metadata": {},
   "outputs": [],
   "source": []
  },
  {
   "cell_type": "code",
   "execution_count": null,
   "id": "921be114",
   "metadata": {},
   "outputs": [],
   "source": []
  },
  {
   "cell_type": "markdown",
   "id": "d90514cf",
   "metadata": {},
   "source": [
    "## Sets in Python\n",
    "A set is another data structure in Python that is similar to a list or a dictionary, but with some unique properties. A set is an unordered collection of unique elements.\n",
    "\n",
    "Sets are useful in a variety of applications, such as removing duplicates from a list or checking for common elements between two sets. Understanding how to use sets effectively can be a valuable skill for any Python programmer.\n",
    "\n",
    "### Creating a set\n",
    "You can create a set in Python by enclosing a comma-separated list of elements in curly braces {}. For example:"
   ]
  },
  {
   "cell_type": "code",
   "execution_count": 13,
   "id": "7e7b04e1",
   "metadata": {},
   "outputs": [],
   "source": [
    "my_set = {1, 2, 3, 4, 5}"
   ]
  },
  {
   "cell_type": "markdown",
   "id": "6a6d7b1d",
   "metadata": {},
   "source": [
    "### Adding and removing elements\n",
    "You can add an element to a set using the add() method, and remove an element using the remove() method. For example:"
   ]
  },
  {
   "cell_type": "code",
   "execution_count": 14,
   "id": "960c9209",
   "metadata": {},
   "outputs": [],
   "source": [
    "my_set.add(6)\n",
    "my_set.remove(3)"
   ]
  },
  {
   "cell_type": "code",
   "execution_count": 15,
   "id": "a16aecd2",
   "metadata": {},
   "outputs": [
    {
     "name": "stdout",
     "output_type": "stream",
     "text": [
      "{1, 2, 4, 5, 6}\n"
     ]
    }
   ],
   "source": [
    "print(my_set)"
   ]
  },
  {
   "cell_type": "markdown",
   "id": "ee9ddb0b",
   "metadata": {},
   "source": [
    "### Set operations\n",
    "\n",
    "There are several built-in set operations in Python that you can use to manipulate sets. Some of the most common ones are:\n",
    "\n",
    "**union():** Returns a new set containing all the elements from two or more sets. Example:"
   ]
  },
  {
   "cell_type": "code",
   "execution_count": 16,
   "id": "d775dd04",
   "metadata": {},
   "outputs": [
    {
     "name": "stdout",
     "output_type": "stream",
     "text": [
      "{1, 2, 3, 4, 5}\n"
     ]
    }
   ],
   "source": [
    "set1 = {1, 2, 3}\n",
    "set2 = {3, 4, 5}\n",
    "union_set = set1.union(set2)\n",
    "print(union_set)  # Output: {1, 2, 3, 4, 5}"
   ]
  },
  {
   "cell_type": "markdown",
   "id": "e2790dfc",
   "metadata": {},
   "source": [
    "**intersection():** Returns a new set containing only the elements that are common to two or more sets. Example:"
   ]
  },
  {
   "cell_type": "code",
   "execution_count": 17,
   "id": "7c5c6456",
   "metadata": {},
   "outputs": [
    {
     "name": "stdout",
     "output_type": "stream",
     "text": [
      "{3}\n"
     ]
    }
   ],
   "source": [
    "set1 = {1, 2, 3}\n",
    "set2 = {3, 4, 5}\n",
    "intersection_set = set1.intersection(set2)\n",
    "print(intersection_set)  # Output: {3}"
   ]
  },
  {
   "cell_type": "markdown",
   "id": "f97b316a",
   "metadata": {},
   "source": [
    "**difference():** Returns a new set containing the elements that are in one set but not in another. Example:"
   ]
  },
  {
   "cell_type": "code",
   "execution_count": 18,
   "id": "8e1d857e",
   "metadata": {},
   "outputs": [
    {
     "name": "stdout",
     "output_type": "stream",
     "text": [
      "{1, 2}\n",
      "{4, 5}\n"
     ]
    }
   ],
   "source": [
    "set1 = {1, 2, 3}\n",
    "set2 = {3, 4, 5}\n",
    "difference_set = set1.difference(set2)\n",
    "difference_set2 = set2.difference(set1)\n",
    "print(difference_set)  # Output: {1, 2}\n",
    "print(difference_set2)"
   ]
  },
  {
   "cell_type": "markdown",
   "id": "75526a13",
   "metadata": {},
   "source": [
    "**symmetric_difference():** Returns a new set containing the elements that are in either of the two sets, but not in both. Example:"
   ]
  },
  {
   "cell_type": "code",
   "execution_count": 19,
   "id": "24339ba9",
   "metadata": {},
   "outputs": [
    {
     "name": "stdout",
     "output_type": "stream",
     "text": [
      "{1, 2, 4, 5}\n"
     ]
    }
   ],
   "source": [
    "set1 = {1, 2, 3}\n",
    "set2 = {3, 4, 5}\n",
    "symmetric_difference_set = set1.symmetric_difference(set2)\n",
    "print(symmetric_difference_set)  # Output: {1, 2, 4, 5}"
   ]
  },
  {
   "cell_type": "markdown",
   "id": "75869e66",
   "metadata": {},
   "source": [
    "### Set Methods"
   ]
  },
  {
   "cell_type": "markdown",
   "id": "1ec20d8f",
   "metadata": {},
   "source": [
    "There are several built-in methods in Python that you can use to manipulate sets. Some of the most common ones are:\n",
    "\n",
    "**len():** Returns the number of elements in the set. Example:"
   ]
  },
  {
   "cell_type": "code",
   "execution_count": 20,
   "id": "21020f8a",
   "metadata": {},
   "outputs": [
    {
     "name": "stdout",
     "output_type": "stream",
     "text": [
      "5\n"
     ]
    }
   ],
   "source": [
    "my_set = {1, 2, 3, 4, 5}\n",
    "print(len(my_set))  # Output: 5"
   ]
  },
  {
   "cell_type": "markdown",
   "id": "7f897a82",
   "metadata": {},
   "source": [
    "**add():** Adds a single element to the set. Example:"
   ]
  },
  {
   "cell_type": "code",
   "execution_count": 21,
   "id": "6986f605",
   "metadata": {},
   "outputs": [
    {
     "name": "stdout",
     "output_type": "stream",
     "text": [
      "{1, 2, 3, 4}\n"
     ]
    }
   ],
   "source": [
    "my_set = {1, 2, 3}\n",
    "my_set.add(4)\n",
    "print(my_set)  # Output: {1, 2, 3, 4}"
   ]
  },
  {
   "cell_type": "markdown",
   "id": "1fc7b730",
   "metadata": {},
   "source": [
    "**remove():** Removes a specific element from the set. Example:"
   ]
  },
  {
   "cell_type": "code",
   "execution_count": 22,
   "id": "dc084f2e",
   "metadata": {},
   "outputs": [
    {
     "name": "stdout",
     "output_type": "stream",
     "text": [
      "{1, 2}\n"
     ]
    }
   ],
   "source": [
    "my_set = {1, 2, 3}\n",
    "my_set.remove(3)\n",
    "print(my_set)  # Output: {1, 2}"
   ]
  },
  {
   "cell_type": "markdown",
   "id": "cb780293",
   "metadata": {},
   "source": [
    "**clear():** Removes all the elements from the set. Example:"
   ]
  },
  {
   "cell_type": "code",
   "execution_count": 23,
   "id": "73443358",
   "metadata": {},
   "outputs": [
    {
     "name": "stdout",
     "output_type": "stream",
     "text": [
      "set()\n"
     ]
    }
   ],
   "source": [
    "my_set = {1, 2, 3}\n",
    "my_set.clear()\n",
    "print(my_set)  # Output: set()"
   ]
  },
  {
   "cell_type": "markdown",
   "id": "cb99484d",
   "metadata": {},
   "source": [
    "**copy():** Returns a new set that is a copy of the original set. Example:"
   ]
  },
  {
   "cell_type": "code",
   "execution_count": 24,
   "id": "54a2d93f",
   "metadata": {},
   "outputs": [
    {
     "name": "stdout",
     "output_type": "stream",
     "text": [
      "{1, 2, 3}\n"
     ]
    }
   ],
   "source": [
    "my_set = {1, 2, 3}\n",
    "new_set = my_set.copy()\n",
    "print(new_set)  # Output: {1, 2, 3}"
   ]
  },
  {
   "cell_type": "markdown",
   "id": "acc4e421",
   "metadata": {},
   "source": [
    "### Conclusion\n",
    "In conclusion, sets are a built-in data structure in Python that allow you to store collections of unique elements. They are implemented as hash tables, which means that they provide very fast lookup times for elements."
   ]
  }
 ],
 "metadata": {
  "kernelspec": {
   "display_name": "Python 3 (ipykernel)",
   "language": "python",
   "name": "python3"
  },
  "language_info": {
   "codemirror_mode": {
    "name": "ipython",
    "version": 3
   },
   "file_extension": ".py",
   "mimetype": "text/x-python",
   "name": "python",
   "nbconvert_exporter": "python",
   "pygments_lexer": "ipython3",
   "version": "3.10.9"
  }
 },
 "nbformat": 4,
 "nbformat_minor": 5
}
