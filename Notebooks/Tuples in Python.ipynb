{
 "cells": [
  {
   "cell_type": "markdown",
   "id": "043b7072",
   "metadata": {},
   "source": [
    "## Tuples\n",
    "A tuple is another sequence data type in Python. It is similar to a list in terms of indexing and slicing but has a few key differences. Tuples are useful for storing collections of related values that should not be changed after they are created. They can be used to represent things like coordinates, dates, and other types of fixed data.\n",
    "\n",
    "### Creating a Tuple\n",
    "Tuples are created using parentheses () and comma , separates the values in a tuple. Example:"
   ]
  },
  {
   "cell_type": "code",
   "execution_count": 1,
   "id": "0a51f9dd",
   "metadata": {},
   "outputs": [
    {
     "name": "stdout",
     "output_type": "stream",
     "text": [
      "(1, 2, 3, 'four', 'five')\n"
     ]
    }
   ],
   "source": [
    "my_tuple = (1, 2, 3, 'four', 'five')\n",
    "print(my_tuple) # Output: (1, 2, 3, 'four', 'five')"
   ]
  },
  {
   "cell_type": "markdown",
   "id": "c8874a02",
   "metadata": {},
   "source": [
    "### Accessing Tuple Values\n",
    "Tuple values are accessed using indexing, just like lists. Example:"
   ]
  },
  {
   "cell_type": "code",
   "execution_count": 2,
   "id": "d9ce6cfe",
   "metadata": {},
   "outputs": [
    {
     "name": "stdout",
     "output_type": "stream",
     "text": [
      "1\n",
      "five\n"
     ]
    }
   ],
   "source": [
    "print(my_tuple[0]) # Output: 1\n",
    "print(my_tuple[-1]) # Output: 'five'"
   ]
  },
  {
   "cell_type": "markdown",
   "id": "4d42662a",
   "metadata": {},
   "source": [
    "### Tuple Slicing\n",
    "Tuple slicing is done just like list slicing. Example:"
   ]
  },
  {
   "cell_type": "code",
   "execution_count": 3,
   "id": "b9c8c361",
   "metadata": {},
   "outputs": [
    {
     "name": "stdout",
     "output_type": "stream",
     "text": [
      "(2, 3, 'four')\n"
     ]
    }
   ],
   "source": [
    "# Slicing a tuple\n",
    "print(my_tuple[1:4]) # Output: (2, 3, 'four')"
   ]
  },
  {
   "cell_type": "markdown",
   "id": "65a547e0",
   "metadata": {},
   "source": [
    "### Tuple Packing and Unpacking\n",
    "Tuple packing is when we take values and pack them into a tuple. Tuple unpacking is the opposite where we take a tuple and unpack it into individual values."
   ]
  },
  {
   "cell_type": "code",
   "execution_count": 4,
   "id": "59ed5aa9",
   "metadata": {},
   "outputs": [
    {
     "name": "stdout",
     "output_type": "stream",
     "text": [
      "(1, 2, 3)\n",
      "1 2 3\n"
     ]
    }
   ],
   "source": [
    "# Tuple packing\n",
    "my_packed_tuple = 1, 2, 3\n",
    "print(my_packed_tuple) # Output: (1, 2, 3)\n",
    "\n",
    "# Tuple unpacking\n",
    "a, b, c = my_packed_tuple\n",
    "print(a, b, c) # Output: 1 2 3"
   ]
  },
  {
   "cell_type": "markdown",
   "id": "e5c15e2b",
   "metadata": {},
   "source": [
    "### Tuple Methods\n",
    "Tuples have fewer built-in methods compared to lists. Here are some common tuple methods:\n",
    "\n",
    "**count():** Returns the number of times a specified value appears in the tuple. Example:"
   ]
  },
  {
   "cell_type": "code",
   "execution_count": 5,
   "id": "25ece98b",
   "metadata": {},
   "outputs": [
    {
     "name": "stdout",
     "output_type": "stream",
     "text": [
      "3\n"
     ]
    }
   ],
   "source": [
    "# Counting the number of times a value appears in the tuple\n",
    "my_tuple = (1, 2, 2, 3, 2)\n",
    "count = my_tuple.count(2)\n",
    "print(count) # Output: 3"
   ]
  },
  {
   "cell_type": "markdown",
   "id": "c0ea975d",
   "metadata": {},
   "source": [
    "**len():** Returns the number of elements in a tuple. Example:"
   ]
  },
  {
   "cell_type": "code",
   "execution_count": 6,
   "id": "fdeca09a",
   "metadata": {},
   "outputs": [
    {
     "name": "stdout",
     "output_type": "stream",
     "text": [
      "3\n"
     ]
    }
   ],
   "source": [
    "# Finding the length of a tuple\n",
    "my_tuple = (1, 2, 3)\n",
    "length = len(my_tuple)\n",
    "print(length) # Output: 3"
   ]
  },
  {
   "cell_type": "markdown",
   "id": "3aac4619",
   "metadata": {},
   "source": [
    "**sorted():** Returns a new sorted list from the items in an iterable. Example:"
   ]
  },
  {
   "cell_type": "code",
   "execution_count": 7,
   "id": "30807d7f",
   "metadata": {},
   "outputs": [
    {
     "name": "stdout",
     "output_type": "stream",
     "text": [
      "[1, 1, 2, 3, 3, 4, 5, 5, 6, 9]\n",
      "<class 'list'>\n"
     ]
    }
   ],
   "source": [
    "# Sorting a tuple\n",
    "my_tuple = (3, 1, 4, 1, 5, 9, 2, 6, 5, 3)\n",
    "sorted_tuple = sorted(my_tuple)\n",
    "print(sorted_tuple) # Output: [1, 1, 2, 3, 3, 4, 5, 5, 6, 9]\n",
    "print(type(sorted_tuple))"
   ]
  },
  {
   "cell_type": "markdown",
   "id": "f1af6ca4",
   "metadata": {},
   "source": [
    "**min() and max():** Return the minimum and maximum values in a tuple, respectively. Example:"
   ]
  },
  {
   "cell_type": "code",
   "execution_count": 8,
   "id": "b9b44b18",
   "metadata": {},
   "outputs": [
    {
     "name": "stdout",
     "output_type": "stream",
     "text": [
      "1\n",
      "9\n"
     ]
    }
   ],
   "source": [
    "# Finding the minimum and maximum values in a tuple\n",
    "my_tuple = (3, 1, 4, 1, 5, 9, 2, 6, 5, 3)\n",
    "\n",
    "min_value = min(my_tuple)\n",
    "max_value = max(my_tuple)\n",
    "\n",
    "print(min_value) # Output: 1\n",
    "print(max_value) # Output: 9"
   ]
  },
  {
   "cell_type": "markdown",
   "id": "91c59fee",
   "metadata": {},
   "source": [
    "**index():** Returns the index of the first occurrence of a specified value in the tuple. Example:"
   ]
  },
  {
   "cell_type": "code",
   "execution_count": 9,
   "id": "1c4d67de",
   "metadata": {},
   "outputs": [
    {
     "name": "stdout",
     "output_type": "stream",
     "text": [
      "2\n"
     ]
    }
   ],
   "source": [
    "# Finding the index of a value in the tuple\n",
    "my_tuple = (1, 2, 3, 4, 5)\n",
    "\n",
    "index = my_tuple.index(3)\n",
    "\n",
    "print(index) # Output: 2"
   ]
  },
  {
   "cell_type": "markdown",
   "id": "2330a01e",
   "metadata": {},
   "source": [
    "**any()** and **all():** Return True if at least one or all of the elements in a tuple, respectively, evaluate to True. Otherwise, they return False."
   ]
  },
  {
   "cell_type": "code",
   "execution_count": 10,
   "id": "e8ccd3ae",
   "metadata": {},
   "outputs": [
    {
     "name": "stdout",
     "output_type": "stream",
     "text": [
      "True\n",
      "False\n"
     ]
    }
   ],
   "source": [
    "# Checking if any or all elements in a tuple are True\n",
    "my_tuple = (True, False, True)\n",
    "\n",
    "any_true = any(my_tuple)\n",
    "all_true = all(my_tuple)\n",
    "\n",
    "print(any_true) # Output: True\n",
    "print(all_true) # Output: False"
   ]
  },
  {
   "cell_type": "markdown",
   "id": "033bb9b9",
   "metadata": {},
   "source": [
    "**Note : Immutable nature** \n",
    "Tuples are immutable, which means once a tuple is created, we cannot change its values. This is different from lists which can be modified after creation. For Example:"
   ]
  },
  {
   "cell_type": "code",
   "execution_count": 11,
   "id": "7ecc1499",
   "metadata": {
    "scrolled": true
   },
   "outputs": [
    {
     "ename": "TypeError",
     "evalue": "'tuple' object does not support item assignment",
     "output_type": "error",
     "traceback": [
      "\u001b[1;31m---------------------------------------------------------------------------\u001b[0m",
      "\u001b[1;31mTypeError\u001b[0m                                 Traceback (most recent call last)",
      "Cell \u001b[1;32mIn[11], line 3\u001b[0m\n\u001b[0;32m      1\u001b[0m \u001b[38;5;66;03m# Tuples are immutable\u001b[39;00m\n\u001b[0;32m      2\u001b[0m my_tuple \u001b[38;5;241m=\u001b[39m (\u001b[38;5;241m1\u001b[39m, \u001b[38;5;241m2\u001b[39m, \u001b[38;5;241m3\u001b[39m)\n\u001b[1;32m----> 3\u001b[0m \u001b[43mmy_tuple\u001b[49m\u001b[43m[\u001b[49m\u001b[38;5;241;43m1\u001b[39;49m\u001b[43m]\u001b[49m \u001b[38;5;241m=\u001b[39m \u001b[38;5;241m4\u001b[39m \u001b[38;5;66;03m# Raises a TypeError\u001b[39;00m\n",
      "\u001b[1;31mTypeError\u001b[0m: 'tuple' object does not support item assignment"
     ]
    }
   ],
   "source": [
    "# Tuples are immutable\n",
    "my_tuple = (1, 2, 3)\n",
    "my_tuple[1] = 4 # Raises a TypeError"
   ]
  },
  {
   "cell_type": "markdown",
   "id": "0a50d6f0",
   "metadata": {},
   "source": [
    "### Conclusion\n",
    "In summary, tuples are a type of data structure in Python that are similar to lists, but with a few key differences. Tuples are immutable, meaning that once they are created, their values cannot be changed. They are created using parentheses instead of square brackets, and they can contain any type of data."
   ]
  }
 ],
 "metadata": {
  "kernelspec": {
   "display_name": "Python 3 (ipykernel)",
   "language": "python",
   "name": "python3"
  },
  "language_info": {
   "codemirror_mode": {
    "name": "ipython",
    "version": 3
   },
   "file_extension": ".py",
   "mimetype": "text/x-python",
   "name": "python",
   "nbconvert_exporter": "python",
   "pygments_lexer": "ipython3",
   "version": "3.10.9"
  }
 },
 "nbformat": 4,
 "nbformat_minor": 5
}
