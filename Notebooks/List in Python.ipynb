{
 "cells": [
  {
   "cell_type": "markdown",
   "id": "11954f0b",
   "metadata": {},
   "source": [
    "### Introduction\n",
    "In programming, lists are an essential data type that allows you to store a collection of items in a single variable. Lists are flexible, powerful, and widely used in a variety of Python programs, from simple scripts to complex applications. Some common use cases for lists in Python are Storing collections of data, Iterating over sequences\n",
    "\n",
    "Here, we'll cover the basics of list variables in Python, including how to create and modify them, how to access individual elements of a list, and how to iterate over the elements of a list. We'll also look at some built-in functions and methods that make working with lists easier.\n",
    "\n",
    "### Use of List in Python\n",
    "Here are some common use cases for lists in Python:\n",
    "\n",
    "**1. Storing collections of data:** Lists are often used to store collections of related data. For example, a list of names, a list of numbers, or a list of objects.\n",
    "\n",
    "**2. Iterating over sequences:** Lists can be used to represent sequences of items that can be iterated over. For example, a list of coordinates in a game or a list of timestamps in a log file.\n",
    "\n",
    "**3. Sorting and searching:** Lists can be sorted or searched to find specific elements. For example, a list of grades can be sorted to find the highest or lowest grade, or a list of words can be searched to find a specific word.\n",
    "\n",
    "**4. Data preprocessing:** Lists can be used to preprocess data before further analysis. For example, a list of strings can be cleaned and tokenized before being used for natural language processing.\n",
    "\n",
    "**5. Building data structures:** Lists can be used to build more complex data structures like stacks, queues, and linked lists.\n",
    "\n",
    "These are just a few examples of the many ways that lists can be used in Python. Lists are incredibly versatile and are a fundamental data type in many programming languages.\n",
    "\n",
    "### Creating a list\n",
    "\n",
    "To create a new list variable in Python, you can use square brackets [ ] and separate the elements with commas. Here's an example:"
   ]
  },
  {
   "cell_type": "code",
   "execution_count": 1,
   "id": "ca0613bd",
   "metadata": {},
   "outputs": [],
   "source": [
    "my_list = [1, 2, 3, 4, 5]"
   ]
  },
  {
   "cell_type": "markdown",
   "id": "010cc72a",
   "metadata": {},
   "source": [
    "This creates a new list variable called my_list with 5 elements: the integers 1, 2, 3, 4, and 5.\n",
    "\n",
    "You can also create an empty list and add elements to it later using the append() method. Here's an example:"
   ]
  },
  {
   "cell_type": "code",
   "execution_count": 2,
   "id": "46e9ea0c",
   "metadata": {},
   "outputs": [
    {
     "name": "stdout",
     "output_type": "stream",
     "text": [
      "[1, 2, 3]\n"
     ]
    }
   ],
   "source": [
    "my_list = []\n",
    "my_list.append(1)\n",
    "my_list.append(2)\n",
    "my_list.append(3)\n",
    "print(my_list)"
   ]
  },
  {
   "cell_type": "markdown",
   "id": "6bc044f2",
   "metadata": {},
   "source": [
    "This creates a new empty list called my_list, and then adds the integers 1, 2, and 3 to it using the append() method.\n",
    "\n",
    "Lists can also contain elements of different data types, such as strings, floats, or even other lists. Here's an example:"
   ]
  },
  {
   "cell_type": "code",
   "execution_count": 3,
   "id": "d8505c22",
   "metadata": {},
   "outputs": [],
   "source": [
    "my_list = [\"apple\", 3.14, [1, 2, 3]]"
   ]
  },
  {
   "cell_type": "markdown",
   "id": "122099d8",
   "metadata": {},
   "source": [
    "This creates a new list called my_list with three elements: the string \"apple\", the float 3.14, and another list with the integers 1, 2, and 3.\n",
    "\n",
    "In summary, to create a list in Python, you use square brackets [ ] and separate the elements with commas. You can create an empty list and add elements to it later using the append() method, and lists can contain elements of any data type.\n",
    "\n",
    "### Indexing and slicing \n",
    "\n",
    "**Indexing** is the process of accessing individual elements of a list by their position, or index, in the list. In Python, the index of the first element in a list is 0, and the index of the last element is the length of the list minus one.\n",
    "\n",
    "To access a single element of a list, you can use square brackets [ ] and the index of the element you want. Here's an example:"
   ]
  },
  {
   "cell_type": "code",
   "execution_count": 4,
   "id": "923c36bc",
   "metadata": {},
   "outputs": [
    {
     "name": "stdout",
     "output_type": "stream",
     "text": [
      "1\n",
      "4\n"
     ]
    }
   ],
   "source": [
    "my_list = [1, 2, 3, 4, 5]\n",
    "print(my_list[0])  # prints 1\n",
    "print(my_list[3])  # prints 4"
   ]
  },
  {
   "cell_type": "markdown",
   "id": "7aa28296",
   "metadata": {},
   "source": [
    "In this example, we create a list called my_list and then print the first and fourth elements using indexing.\n",
    "\n",
    "Slicing is the process of accessing a portion, or slice, of a list by specifying a range of indices. To slice a list in Python, you use the syntax [start:end], where start is the index of the first element you want to include, and end is the index of the first element you want to exclude.\n",
    "\n",
    "Here's an example:"
   ]
  },
  {
   "cell_type": "code",
   "execution_count": 5,
   "id": "25d940cb",
   "metadata": {},
   "outputs": [
    {
     "name": "stdout",
     "output_type": "stream",
     "text": [
      "[2, 3, 4]\n"
     ]
    }
   ],
   "source": [
    "my_list = [1, 2, 3, 4, 5]\n",
    "print(my_list[1:4])  # prints [2, 3, 4]"
   ]
  },
  {
   "cell_type": "markdown",
   "id": "5197587b",
   "metadata": {},
   "source": [
    "In this example, we create a list called my_list and then print a slice of the list from the second to the fourth elements using slicing.\n",
    "\n",
    "You can also use negative indices to slice a list from the end. For example, to slice the last three elements of a list, you can use the syntax [-3:]. Here's an example:"
   ]
  },
  {
   "cell_type": "code",
   "execution_count": 6,
   "id": "e25b1716",
   "metadata": {},
   "outputs": [
    {
     "name": "stdout",
     "output_type": "stream",
     "text": [
      "[3, 4, 5]\n"
     ]
    }
   ],
   "source": [
    "my_list = [1, 2, 3, 4, 5]\n",
    "print(my_list[-3:])  # prints [3, 4, 5]"
   ]
  },
  {
   "cell_type": "markdown",
   "id": "7ee86968",
   "metadata": {},
   "source": [
    "In this example, we create a list called my_list and then print the last three elements of the list using negative slicing.\n",
    "\n",
    "In summary, indexing is the process of accessing individual elements of a list by their position, and slicing is the process of accessing a portion of a list by specifying a range of indices. You can use both indexing and slicing to manipulate and access data in lists in Python.\n",
    "\n",
    "### Modifying a list"
   ]
  },
  {
   "cell_type": "markdown",
   "id": "675e9354",
   "metadata": {},
   "source": [
    "In Python, you can modify the elements of a list by assigning new values to them or by using methods that change the list in place.\n",
    "\n",
    "To modify a single element of a list, you can use indexing and assignment. Here's an example:"
   ]
  },
  {
   "cell_type": "code",
   "execution_count": 7,
   "id": "2e1a86b1",
   "metadata": {},
   "outputs": [
    {
     "name": "stdout",
     "output_type": "stream",
     "text": [
      "[1, 2, 3, 10, 5]\n"
     ]
    }
   ],
   "source": [
    "my_list = [1, 2, 3, 4, 5]\n",
    "my_list[3] = 10\n",
    "print(my_list)  # prints [1, 2, 3, 10, 5]"
   ]
  },
  {
   "cell_type": "markdown",
   "id": "78bee014",
   "metadata": {},
   "source": [
    "In this example, we create a list called my_list and then modify the fourth element of the list (which has index 3) to have a value of 10.\n",
    "\n",
    "To add elements to a list, you can use the append() method, which adds an element to the end of the list. Here's an example:"
   ]
  },
  {
   "cell_type": "code",
   "execution_count": 8,
   "id": "ea6bbc24",
   "metadata": {},
   "outputs": [
    {
     "name": "stdout",
     "output_type": "stream",
     "text": [
      "[1, 2, 3, 4, 5, 6]\n"
     ]
    }
   ],
   "source": [
    "my_list = [1, 2, 3, 4, 5]\n",
    "my_list.append(6)\n",
    "print(my_list)  # prints [1, 2, 3, 4, 5, 6]"
   ]
  },
  {
   "cell_type": "markdown",
   "id": "e6bcabed",
   "metadata": {},
   "source": [
    "In this example, we create a list called my_list and then add a new element with a value of 6 to the end of the list using the append() method.\n",
    "\n",
    "To remove elements from a list, you can use methods like pop() or remove(). The pop() method removes the element at a specified index and returns its value, while the remove() method removes the first occurrence of a specified value.\n",
    "\n",
    "Here's an example of using pop():"
   ]
  },
  {
   "cell_type": "code",
   "execution_count": 9,
   "id": "f766809f",
   "metadata": {},
   "outputs": [
    {
     "name": "stdout",
     "output_type": "stream",
     "text": [
      "[1, 2, 4, 5]\n",
      "3\n"
     ]
    }
   ],
   "source": [
    "my_list = [1, 2, 3, 4, 5]\n",
    "value = my_list.pop(2)\n",
    "print(my_list)  # prints [1, 2, 4, 5]\n",
    "print(value)    # prints 3"
   ]
  },
  {
   "cell_type": "markdown",
   "id": "dc602eb3",
   "metadata": {},
   "source": [
    "In this example, we create a list called my_list and then remove the third element of the list (which has index 2) using the pop() method. The method returns the value of the removed element, which we assign to a variable called value.\n",
    "\n",
    "Here's an example of using remove():"
   ]
  },
  {
   "cell_type": "code",
   "execution_count": 10,
   "id": "fa94fc00",
   "metadata": {},
   "outputs": [
    {
     "name": "stdout",
     "output_type": "stream",
     "text": [
      "[1, 2, 4, 5]\n"
     ]
    }
   ],
   "source": [
    "my_list = [1, 2, 3, 4, 5]\n",
    "my_list.remove(3)\n",
    "print(my_list)  # prints [1, 2, 4, 5]"
   ]
  },
  {
   "cell_type": "markdown",
   "id": "b1f66e68",
   "metadata": {},
   "source": [
    "In this example, we create a list called my_list and then remove the first occurrence of the value 3 using the remove() method.\n",
    "\n",
    "In summary, to modify a list in Python, you can use indexing and assignment to change the value of a single element, or methods like append(), pop(), and remove() to add or remove elements from the list.\n",
    "\n",
    "### Iterating over a list"
   ]
  },
  {
   "cell_type": "markdown",
   "id": "f781c0ff",
   "metadata": {},
   "source": [
    "Iterating over a list in Python means going through each element of the list one by one and performing some operation on each element. Python provides several ways to iterate over a list, including using a for loop and using list comprehension.\n",
    "\n",
    "Using a for loop is the most common way to iterate over a list. Here's an example:"
   ]
  },
  {
   "cell_type": "code",
   "execution_count": 11,
   "id": "becaae3a",
   "metadata": {},
   "outputs": [
    {
     "name": "stdout",
     "output_type": "stream",
     "text": [
      "1\n",
      "4\n",
      "9\n",
      "16\n",
      "25\n"
     ]
    }
   ],
   "source": [
    "my_list = [1, 2, 3, 4, 5]\n",
    "\n",
    "for element in my_list:\n",
    "    \n",
    "    print(element ** 2)"
   ]
  },
  {
   "cell_type": "markdown",
   "id": "b3bfcb91",
   "metadata": {},
   "source": [
    "In this example, we create a list called my_list and then use a for loop to iterate over each element in the list. The loop prints each element to the console.\n",
    "\n",
    "You can also use list comprehension to iterate over a list and perform some operation on each element. List comprehension is a concise way to create a new list by iterating over an existing list and applying some operation to each element. Here's an example:"
   ]
  },
  {
   "cell_type": "code",
   "execution_count": 12,
   "id": "a0824932",
   "metadata": {},
   "outputs": [
    {
     "name": "stdout",
     "output_type": "stream",
     "text": [
      "[2, 4, 6, 8, 10]\n"
     ]
    }
   ],
   "source": [
    "my_list = [1, 2, 3, 4, 5]\n",
    "\n",
    "new_list = [element * 2 for element in my_list]\n",
    "\n",
    "print(new_list)  # prints [2, 4, 6, 8, 10]"
   ]
  },
  {
   "cell_type": "markdown",
   "id": "af8478ed",
   "metadata": {},
   "source": [
    "In this example, we create a list called my_list and then use list comprehension to create a new list called new_list. The list comprehension iterates over each element in my_list and multiplies it by 2, creating a new list with the resulting values.\n",
    "\n",
    "In addition to for loops and list comprehension, Python provides several built-in functions for iterating over lists, including map(), filter(), and reduce(). These functions can be used to apply a function to each element of a list, filter the elements of a list based on a condition, or perform a cumulative operation on a list.\n",
    "\n",
    "Overall, iterating over a list is a fundamental operation in Python and is used extensively in many different types of programs.\n",
    "\n",
    "### List functions and methods\n",
    "\n",
    "Python provides many built-in functions and methods that can be used to manipulate and work with lists. Here are some of the most commonly used functions and methods for working with lists:\n",
    "\n",
    "#### Functions:\n",
    "\n",
    "* len(): returns the number of elements in a list.\n",
    "* sorted(): returns a sorted version of the list.\n",
    "* sum(): returns the sum of the elements in a list.\n",
    "* min(): returns the smallest element in a list.\n",
    "* max(): returns the largest element in a list.\n",
    "\n",
    "Here's an example of using some of these functions:"
   ]
  },
  {
   "cell_type": "code",
   "execution_count": 13,
   "id": "3acdf917",
   "metadata": {},
   "outputs": [
    {
     "name": "stdout",
     "output_type": "stream",
     "text": [
      "5\n",
      "[1, 2, 3, 4, 5]\n",
      "15\n",
      "1\n",
      "5\n"
     ]
    }
   ],
   "source": [
    "my_list = [1, 5, 2, 4, 3]\n",
    "\n",
    "print(len(my_list))        # prints 5\n",
    "print(sorted(my_list))     # prints [1, 2, 3, 4, 5]\n",
    "print(sum(my_list))        # prints 15\n",
    "print(min(my_list))        # prints 1\n",
    "print(max(my_list))        # prints 5"
   ]
  },
  {
   "cell_type": "markdown",
   "id": "1e9392a5",
   "metadata": {},
   "source": [
    "#### Methods:\n",
    "\n",
    "* append(): adds an element to the end of a list.\n",
    "* insert(): inserts an element at a specified position in a list.\n",
    "* remove(): removes the first occurrence of a specified element from a list.\n",
    "* pop(): removes and returns the element at a specified position in a list.\n",
    "* index(): returns the index of the first occurrence of a specified element in a list.\n",
    "* count(): returns the number of times a specified element appears in a list.\n",
    "* sort(): sorts the elements in a list.\n",
    "* reverse(): reverses the order of the elements in a list.\n",
    "\n",
    "Here's an example of using some of these methods:"
   ]
  },
  {
   "cell_type": "code",
   "execution_count": 14,
   "id": "95107274",
   "metadata": {},
   "outputs": [
    {
     "name": "stdout",
     "output_type": "stream",
     "text": [
      "[1, 5, 2, 4, 3, 6]\n",
      "[1, 5, 7, 2, 4, 3, 6]\n",
      "[1, 5, 7, 4, 3, 6]\n",
      "[1, 5, 4, 3, 6]\n",
      "7\n",
      "1\n",
      "1\n",
      "[1, 3, 4, 5, 6]\n",
      "[6, 5, 4, 3, 1]\n"
     ]
    }
   ],
   "source": [
    "my_list = [1, 5, 2, 4, 3]\n",
    "\n",
    "my_list.append(6)\n",
    "print(my_list)          # prints [1, 5, 2, 4, 3, 6]\n",
    "\n",
    "my_list.insert(2, 7)\n",
    "print(my_list)          # prints [1, 5, 7, 2, 4, 3, 6]\n",
    "\n",
    "my_list.remove(2)\n",
    "print(my_list)          # prints [1, 5, 7, 4, 3, 6]\n",
    "\n",
    "value = my_list.pop(2)\n",
    "print(my_list)          # prints [1, 5, 4, 3, 6]\n",
    "print(value)            # prints 7\n",
    "\n",
    "index = my_list.index(5)\n",
    "print(index)            # prints 1\n",
    "\n",
    "count = my_list.count(4)\n",
    "print(count)            # prints 1\n",
    "\n",
    "my_list.sort()\n",
    "print(my_list)          # prints [1, 3, 4, 5, 6]\n",
    "\n",
    "my_list.reverse()\n",
    "print(my_list)          # prints [6, 5, 4, 3, 1]"
   ]
  },
  {
   "cell_type": "markdown",
   "id": "b2e29fde",
   "metadata": {},
   "source": [
    "Overall, Python provides many useful functions and methods for working with lists, making it easy to manipulate and analyze data in this format.\n",
    "\n",
    " ### Some advanced topics related to lists\n",
    " \n",
    "**1. List comprehension:** This is a concise way to create a new list by applying an operation to each element of an existing list, often with a conditional statement included. For example:"
   ]
  },
  {
   "cell_type": "code",
   "execution_count": 15,
   "id": "95b38a22",
   "metadata": {},
   "outputs": [
    {
     "name": "stdout",
     "output_type": "stream",
     "text": [
      "[4, 8]\n"
     ]
    }
   ],
   "source": [
    "my_list = [1, 2, 3, 4, 5]\n",
    "new_list = [x * 2 for x in my_list if x % 2 == 0]\n",
    "print(new_list)  # prints [4, 16]"
   ]
  },
  {
   "cell_type": "markdown",
   "id": "b5d1ce48",
   "metadata": {},
   "source": [
    "**2. Nested lists:** Lists can contain other lists as elements, allowing for more complex data structures to be created. For example:"
   ]
  },
  {
   "cell_type": "code",
   "execution_count": 16,
   "id": "81d0810d",
   "metadata": {
    "scrolled": true
   },
   "outputs": [
    {
     "name": "stdout",
     "output_type": "stream",
     "text": [
      "8\n"
     ]
    }
   ],
   "source": [
    "matrix = [[1, 2, 3], [4, 5, 6], [7, 8, 9]]\n",
    "print(matrix[2][1])  # prints 8"
   ]
  },
  {
   "cell_type": "markdown",
   "id": "e0e02b6f",
   "metadata": {},
   "source": [
    "**3. Aliasing and copying:** When you assign a list to a new variable, you are creating a reference to the same list object in memory. This can lead to unexpected behavior if you modify the list through one variable, as it will affect all other variables that reference the same list. To create a separate copy of a list, you can use the copy() method or slice notation. For example:"
   ]
  },
  {
   "cell_type": "code",
   "execution_count": 17,
   "id": "03482de9",
   "metadata": {},
   "outputs": [
    {
     "name": "stdout",
     "output_type": "stream",
     "text": [
      "[1, 2, 3, 4]\n",
      "[1, 2, 3, 4]\n",
      "[1, 2, 3]\n",
      "[1, 2, 3]\n"
     ]
    }
   ],
   "source": [
    "list1 = [1, 2, 3]\n",
    "list2 = list1  # this creates an alias, not a copy\n",
    "list3 = list1.copy()  # this creates a copy of the list\n",
    "list4 = list1[:]  # this also creates a copy of the list\n",
    "\n",
    "list1.append(4)\n",
    "print(list1)  # prints [1, 2, 3, 4]\n",
    "print(list2)  # also prints [1, 2, 3, 4], because it's an alias\n",
    "print(list3)  # prints [1, 2, 3], because it's a copy\n",
    "print(list4)  # also prints [1, 2, 3], because it's a copy"
   ]
  },
  {
   "cell_type": "markdown",
   "id": "c915f9e5",
   "metadata": {},
   "source": [
    "### Conclusion\n",
    "In conclusion, a list is a powerful and versatile data structure in Python that allows you to store and manipulate collections of data. You can create lists with any combination of data types and modify them in various ways, including adding or removing elements, accessing and updating specific elements, and iterating over the entire list.\n",
    "\n",
    "Additionally, Python provides a variety of built-in functions and methods that can help you work with lists more efficiently and effectively. By mastering the basics of list creation, modification, and iteration, as well as understanding more advanced concepts such as list comprehension, nested lists, and aliasing, you can become a more skilled and proficient Python programmer.\n",
    "\n",
    "Overall, lists are an essential tool for data analysis, scientific computing, and general-purpose programming, and are widely used in a variety of applications and domains. Whether you're a beginner or an experienced programmer, learning how to use lists effectively can be a valuable asset in your coding toolkit."
   ]
  }
 ],
 "metadata": {
  "kernelspec": {
   "display_name": "Python 3 (ipykernel)",
   "language": "python",
   "name": "python3"
  },
  "language_info": {
   "codemirror_mode": {
    "name": "ipython",
    "version": 3
   },
   "file_extension": ".py",
   "mimetype": "text/x-python",
   "name": "python",
   "nbconvert_exporter": "python",
   "pygments_lexer": "ipython3",
   "version": "3.10.9"
  }
 },
 "nbformat": 4,
 "nbformat_minor": 5
}
