{
 "cells": [
  {
   "cell_type": "markdown",
   "id": "c141bbb4",
   "metadata": {},
   "source": [
    "### Introduction\n",
    "Conditional statements are one of the most fundamental concepts in programming. They allow you to create code that executes different actions based on a certain condition. Without conditional statements, programming would be limited to executing the same instructions every time a program runs, which severely restricts the power and flexibility of the code.\n",
    "\n",
    "In Python, conditional statements are used to control the flow of the program based on whether certain conditions are true or false. This allows you to create programs that make decisions based on user input, data values, or other factors, and execute different actions accordingly.\n",
    "\n",
    "In the rest of this notebook, we'll dive into the syntax and usage of conditional statements in Python, including if, elif, and else statements.\n",
    "\n",
    "### Syntax of If Statements\n",
    "The basic syntax of an if statement in Python is:\n"
   ]
  },
  {
   "cell_type": "code",
   "execution_count": null,
   "id": "da43ca76",
   "metadata": {},
   "outputs": [],
   "source": [
    "if condition:\n",
    "    # execute this code block if the condition is True"
   ]
  },
  {
   "cell_type": "markdown",
   "id": "bbb715d7",
   "metadata": {},
   "source": [
    "Here's an example of how an if statement can be used to check whether a number is positive:"
   ]
  },
  {
   "cell_type": "code",
   "execution_count": 1,
   "id": "7de5386c",
   "metadata": {},
   "outputs": [
    {
     "name": "stdout",
     "output_type": "stream",
     "text": [
      "The number is positive\n"
     ]
    }
   ],
   "source": [
    "number = 8\n",
    "if number > 0:\n",
    "    \n",
    "    print(\"The number is positive\")"
   ]
  },
  {
   "cell_type": "markdown",
   "id": "eebed0bb",
   "metadata": {},
   "source": [
    "In this example, the condition number > 0 is evaluated to True, so the code block that follows the if statement is executed. That is why output of this program is:\n",
    "\n",
    "**The number is positive**\n",
    "\n",
    "In general, the condition in an if statement can be any expression that evaluates to a Boolean value (True or False). If the condition is true, the code block that follows the if statement is executed. If the condition is false, the code block is skipped and the program continues executing the next statement outside of the if block.\n",
    "\n",
    "Here's an example program that uses an if statement to check whether a given number is positive or negative:"
   ]
  },
  {
   "cell_type": "code",
   "execution_count": 2,
   "id": "726376ce",
   "metadata": {},
   "outputs": [
    {
     "name": "stdout",
     "output_type": "stream",
     "text": [
      "Enter a number: 45\n",
      "The number is positive\n"
     ]
    }
   ],
   "source": [
    "# get input from user\n",
    "number = int(input(\"Enter a number: \"))\n",
    "\n",
    "# check if number is positive\n",
    "if number > 0:\n",
    "    print(\"The number is positive\")"
   ]
  },
  {
   "cell_type": "markdown",
   "id": "f1f63806",
   "metadata": {},
   "source": [
    "In this program, the user is prompted to enter a number using the input() function, which returns a string that is then converted to an integer using the int() function. The if statement then checks whether the number is greater than zero. If it is, the code block that follows the if statement is executed, which simply prints the message \"The number is positive\" to the console.\n",
    "\n",
    "If the user enters a negative number, the code block inside the if statement is not executed and nothing is printed to the console. This shows how the if statement can be used to execute different code blocks based on whether a certain condition is true or false.\n",
    "\n",
    "### Else Statements\n",
    "In Python, an else statement can be used in conjunction with an if statement to execute a different code block when the condition in the if statement is not met. \n",
    "\n",
    "The basic syntax of an if-else statement is:"
   ]
  },
  {
   "cell_type": "code",
   "execution_count": null,
   "id": "6a3cca5c",
   "metadata": {},
   "outputs": [],
   "source": [
    "if condition:\n",
    "    # execute this code block if the condition is True\n",
    "else:\n",
    "    # execute this code block if the condition is False"
   ]
  },
  {
   "cell_type": "markdown",
   "id": "e24f43b9",
   "metadata": {},
   "source": [
    "Here's an example of how an if-else statement can be used to check whether a number is positive or negative:"
   ]
  },
  {
   "cell_type": "code",
   "execution_count": 3,
   "id": "48593961",
   "metadata": {},
   "outputs": [
    {
     "name": "stdout",
     "output_type": "stream",
     "text": [
      "Enter a number: -20\n",
      "The number is negative or zero\n"
     ]
    }
   ],
   "source": [
    "# get input from user\n",
    "number = int(input(\"Enter a number: \"))\n",
    "\n",
    "# check if number is positive or negative\n",
    "if number > 0:\n",
    "    print(\"The number is positive\")\n",
    "else:\n",
    "    print(\"The number is negative or zero\")"
   ]
  },
  {
   "cell_type": "markdown",
   "id": "e6e996ca",
   "metadata": {},
   "source": [
    "In this program, the user is prompted to enter a number using the input() function, which is converted to an integer using the int() function. The if statement then checks whether the number is greater than zero. If it is, the code block that follows the if statement is executed, which prints the message \"The number is positive\" to the console. If the number is not greater than zero, the else block is executed instead, which prints the message \"The number is negative or zero\" to the console.\n",
    "\n",
    "This shows how the if-else statement can be used to execute different code blocks based on whether a certain condition is true or false.\n",
    "\n",
    "### Elif Statements\n",
    "In Python, the elif statement is used in conjunction with the if statement to check multiple conditions. It allows you to specify multiple conditions and execute different code blocks based on which condition is true.\n",
    "\n",
    "The basic syntax of an if-elif-else statement is:"
   ]
  },
  {
   "cell_type": "code",
   "execution_count": null,
   "id": "98c52c85",
   "metadata": {},
   "outputs": [],
   "source": [
    "if condition1:\n",
    "    # execute this code block if condition1 is True\n",
    "elif condition2:\n",
    "    # execute this code block if condition1 is False and condition2 is True\n",
    "elif condition3:\n",
    "    # execute this code block if condition1 and condition2 are False and condition3 is True\n",
    "else:\n",
    "    # execute this code block if all the conditions are False"
   ]
  },
  {
   "cell_type": "markdown",
   "id": "dcd4a442",
   "metadata": {},
   "source": [
    "Here's an example of how an if-elif-else statement can be used to check whether a number is positive, negative or zero:"
   ]
  },
  {
   "cell_type": "code",
   "execution_count": 4,
   "id": "ae553fef",
   "metadata": {},
   "outputs": [
    {
     "name": "stdout",
     "output_type": "stream",
     "text": [
      "Enter a number: 0\n",
      "The number is zero\n"
     ]
    }
   ],
   "source": [
    "# get input from user\n",
    "number = int(input(\"Enter a number: \"))\n",
    "\n",
    "# check if number is positive, negative or zero\n",
    "if number > 0:\n",
    "    print(\"The number is positive\")\n",
    "elif number < 0:\n",
    "    print(\"The number is negative\")\n",
    "else:\n",
    "    print(\"The number is zero\")"
   ]
  },
  {
   "cell_type": "markdown",
   "id": "ef053f3e",
   "metadata": {},
   "source": [
    "In this program, the user is prompted to enter a number using the input() function, which is converted to an integer using the int() function. The if statement checks whether the number is greater than zero. If it is, the code block that follows the if statement is executed, which prints the message \"The number is positive\" to the console. If the number is not greater than zero, the elif statement checks whether the number is less than zero. If it is, the code block that follows the elif statement is executed, which prints the message \"The number is negative\" to the console. If the number is not greater than zero and not less than zero, the else block is executed, which prints the message \"The number is zero\" to the console.\n",
    "\n",
    "This shows how the if-elif-else statement can be used to check multiple conditions and execute different code blocks based on which condition is true.\n",
    "\n",
    "### Nested If Statements\n",
    "\n",
    "In Python, a nested if statement is an if statement that is inside another if statement. This allows you to create more complex conditional statements by checking multiple conditions within a single code block.\n",
    "\n",
    "The basic syntax of a nested if statement is:"
   ]
  },
  {
   "cell_type": "code",
   "execution_count": null,
   "id": "86b9bbc2",
   "metadata": {},
   "outputs": [],
   "source": [
    "if condition1:\n",
    "    # execute this code block if condition1 is True\n",
    "    if condition2:\n",
    "        # execute this code block if condition1 and condition2 are True\n",
    "    else:\n",
    "        # execute this code block if condition1 is True and condition2 is False\n",
    "else:\n",
    "    # execute this code block if condition1 is False"
   ]
  },
  {
   "cell_type": "markdown",
   "id": "1ade4dd9",
   "metadata": {},
   "source": [
    "Here's an example of how a nested if statement can be used to determine if a person is eligible to vote:"
   ]
  },
  {
   "cell_type": "code",
   "execution_count": 5,
   "id": "8446b195",
   "metadata": {},
   "outputs": [
    {
     "name": "stdout",
     "output_type": "stream",
     "text": [
      "Enter your age: 35\n",
      "Are you a citizen of this country? (yes/no): yes\n",
      "You are eligible to vote\n"
     ]
    }
   ],
   "source": [
    "# get input from user\n",
    "age = int(input(\"Enter your age: \"))\n",
    "citizen = input(\"Are you a citizen of this country? (yes/no): \")\n",
    "\n",
    "# check if person is eligible to vote\n",
    "if age >= 18:\n",
    "    if citizen == \"yes\":\n",
    "        print(\"You are eligible to vote\")\n",
    "    else:\n",
    "        print(\"Sorry, only citizens can vote\")\n",
    "else:\n",
    "    print(\"Sorry, you are not old enough to vote\")"
   ]
  },
  {
   "cell_type": "markdown",
   "id": "a35c9fd5",
   "metadata": {},
   "source": [
    "In this program, the user is prompted to enter their age and citizenship status. The first if statement checks whether the person is 18 years or older. If they are, the nested if statement checks whether they are a citizen of the country. If they are, the message \"You are eligible to vote\" is printed to the console. If they are not a citizen, the message \"Sorry, only citizens can vote\" is printed. If the person is not 18 or older, the else statement is executed, which prints the message \"Sorry, you are not old enough to vote\".\n",
    "\n",
    "This shows how nested if statements can be used to check multiple conditions and create more complex conditional statements.\n",
    "\n",
    "### Short-circuiting\n",
    "\n",
    "In Python, short-circuiting is a technique used to simplify complex conditional statements by taking advantage of the fact that logical operators and and or only evaluate their operands until a certain condition is met.\n",
    "\n",
    "For example, in an or statement, if the first operand evaluates to True, the second operand is not evaluated because the entire expression is already considered to be True. Similarly, in an and statement, if the first operand evaluates to False, the second operand is not evaluated because the entire expression is already considered to be False.\n",
    "\n",
    "Here's an example of how short-circuiting can be used to check if a string is not empty before performing a certain action:"
   ]
  },
  {
   "cell_type": "code",
   "execution_count": 6,
   "id": "3bef8006",
   "metadata": {},
   "outputs": [
    {
     "name": "stdout",
     "output_type": "stream",
     "text": [
      "The string is empty\n"
     ]
    }
   ],
   "source": [
    "text = \"\"\n",
    "if text and len(text) > 0:\n",
    "    # perform some action\n",
    "    print(\"The string is not empty\")\n",
    "else:\n",
    "    print(\"The string is empty\")"
   ]
  },
  {
   "cell_type": "markdown",
   "id": "28ac4248",
   "metadata": {},
   "source": [
    "In this program, the if statement checks whether text is not empty and whether its length is greater than 0. However, because of short-circuiting, if text is empty, the second operand (len(text) > 0) is not evaluated because the entire expression is already considered to be False. This simplifies the conditional statement and makes the code more readable.\n",
    "\n",
    "If the text variable is not empty, the second operand is evaluated and the code block within the if statement is executed, printing \"The string is not empty\". If text is empty, the else block is executed, printing \"The string is empty\".\n",
    "\n",
    "Short-circuiting can be a powerful tool to simplify conditional statements and improve the efficiency of your code. However, it's important to use it judiciously and make sure that your code is still easy to understand and maintain.\n",
    "\n",
    "### Conclusion\n",
    "\n",
    "In conclusion, conditional statements are a fundamental concept in Python programming that allow you to execute code blocks based on certain conditions. By using if statements, else statements, elif statements, nested if statements, and short-circuiting, you can create complex programs that are able to make decisions and take different actions based on a variety of inputs.\n",
    "\n",
    "By using the examples and techniques covered in this notebook, you can start to write more powerful and efficient programs that are able to make decisions and take different actions based on a variety of inputs. So, start practicing and experimenting with conditional statements today, and take your Python programming skills to the next level!"
   ]
  }
 ],
 "metadata": {
  "kernelspec": {
   "display_name": "Python 3 (ipykernel)",
   "language": "python",
   "name": "python3"
  },
  "language_info": {
   "codemirror_mode": {
    "name": "ipython",
    "version": 3
   },
   "file_extension": ".py",
   "mimetype": "text/x-python",
   "name": "python",
   "nbconvert_exporter": "python",
   "pygments_lexer": "ipython3",
   "version": "3.10.9"
  }
 },
 "nbformat": 4,
 "nbformat_minor": 5
}
