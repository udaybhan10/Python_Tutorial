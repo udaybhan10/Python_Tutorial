{
 "cells": [
  {
   "cell_type": "markdown",
   "id": "a39d6fba",
   "metadata": {},
   "source": [
    "## Definition\n",
    "Number variables are a fundamental concept in programming, and they're essential for any Python programmer to understand. In Python, there are two types of number variables: integers and floats. Integers are whole numbers, while floats are decimal numbers."
   ]
  },
  {
   "cell_type": "markdown",
   "id": "d0fe2fc1",
   "metadata": {},
   "source": [
    "## Types of Number Variables\n",
    "In Python, there are several data types used to store numbers, including: **integers**, **floats** and **complex numbers**."
   ]
  },
  {
   "cell_type": "markdown",
   "id": "30f0d14b",
   "metadata": {},
   "source": [
    "### int (integer)\n",
    "An integer is a whole number that doesn't have a decimal point. For example, 1, 2, 3, and 4 are all integers. In Python, you can declare an integer by simply assigning a whole number to a variable. For example:"
   ]
  },
  {
   "cell_type": "code",
   "execution_count": 1,
   "id": "33062f1c",
   "metadata": {},
   "outputs": [],
   "source": [
    "my_int = 10"
   ]
  },
  {
   "cell_type": "code",
   "execution_count": 2,
   "id": "693061d4",
   "metadata": {
    "scrolled": true
   },
   "outputs": [
    {
     "name": "stdout",
     "output_type": "stream",
     "text": [
      "my_int : 10\n",
      "<class 'int'>\n"
     ]
    }
   ],
   "source": [
    "print('my_int :', my_int)\n",
    "\n",
    "print(type(my_int))"
   ]
  },
  {
   "cell_type": "markdown",
   "id": "f31f8f20",
   "metadata": {},
   "source": [
    "### float (floating-point number)\n",
    "A float, on the other hand, is a number that has a decimal point. For example, 1.5, 2.75, and 3.14159 are all floats. In Python, you can declare a float by including a decimal point in the number or by using scientific notation. For example:"
   ]
  },
  {
   "cell_type": "code",
   "execution_count": 3,
   "id": "0639208f",
   "metadata": {
    "scrolled": true
   },
   "outputs": [],
   "source": [
    "my_float_1 = 3.14\n",
    "my_float_2 = 2e-3  # this is equivalent to 0.002"
   ]
  },
  {
   "cell_type": "code",
   "execution_count": 4,
   "id": "8cb01e6d",
   "metadata": {},
   "outputs": [
    {
     "name": "stdout",
     "output_type": "stream",
     "text": [
      "my_float_2 : 0.002\n",
      "<class 'float'>\n"
     ]
    }
   ],
   "source": [
    "print('my_float_2 :', my_float_2)\n",
    "\n",
    "print(type(my_float_2))"
   ]
  },
  {
   "cell_type": "markdown",
   "id": "78c80efd",
   "metadata": {},
   "source": [
    "### complex (complex number)\n",
    "These are used to store complex numbers, such as 2 + 3j, where j represents the imaginary unit. In Python, You can declare a complex number by including a imaginiry unit **j**. For example:"
   ]
  },
  {
   "cell_type": "code",
   "execution_count": 5,
   "id": "7efbac5e",
   "metadata": {},
   "outputs": [],
   "source": [
    "my_complex = 4.5 + 7j"
   ]
  },
  {
   "cell_type": "code",
   "execution_count": 6,
   "id": "88b91dc4",
   "metadata": {
    "scrolled": false
   },
   "outputs": [
    {
     "name": "stdout",
     "output_type": "stream",
     "text": [
      "my_complex : (4.5+7j)\n",
      "<class 'complex'>\n"
     ]
    }
   ],
   "source": [
    "print('my_complex :', my_complex)\n",
    "\n",
    "print(type(my_complex))"
   ]
  },
  {
   "cell_type": "markdown",
   "id": "804972bd",
   "metadata": {},
   "source": [
    "**Note:** It's important to note that Python automatically assigns the type of variable based on the value you assign to it. For example, if you assign a whole number to a variable, it will be an integer type. If you assign a number with a decimal point to a variable, it will be a float type."
   ]
  },
  {
   "cell_type": "markdown",
   "id": "9d14318b",
   "metadata": {},
   "source": [
    "Let's look at an example where we declare both an integer and a float variable:"
   ]
  },
  {
   "cell_type": "code",
   "execution_count": 7,
   "id": "c14dc86e",
   "metadata": {},
   "outputs": [],
   "source": [
    "my_int = 10\n",
    "my_float = 3.14"
   ]
  },
  {
   "cell_type": "code",
   "execution_count": 8,
   "id": "35ce29db",
   "metadata": {},
   "outputs": [
    {
     "name": "stdout",
     "output_type": "stream",
     "text": [
      "<class 'int'>\n",
      "<class 'float'>\n"
     ]
    }
   ],
   "source": [
    "print(type(my_int))\n",
    "print(type(my_float))"
   ]
  },
  {
   "cell_type": "markdown",
   "id": "3f477635",
   "metadata": {},
   "source": [
    "Now that we have an understanding of three types of number variables in Python, we can move on to declaring and assigning variables."
   ]
  },
  {
   "cell_type": "markdown",
   "id": "932bfafc",
   "metadata": {},
   "source": [
    "### Declaring and Assigning Variables\n",
    "In Python, you can declare and assign number variables in a single line of code. To declare a variable, simply choose a name for it and use the equals sign (=) to assign a value to it.\n",
    "\n",
    "Here's an example of how to declare and assign an integer variable:"
   ]
  },
  {
   "cell_type": "code",
   "execution_count": 9,
   "id": "a38e8dac",
   "metadata": {},
   "outputs": [],
   "source": [
    "my_int = 100"
   ]
  },
  {
   "cell_type": "markdown",
   "id": "1e860eb2",
   "metadata": {},
   "source": [
    "In the above example, we declared a variable called my_int and assigned it the value of 100. We can also declare and assign a float variable in the same way:"
   ]
  },
  {
   "cell_type": "code",
   "execution_count": 10,
   "id": "db22eccb",
   "metadata": {},
   "outputs": [],
   "source": [
    "my_float = 7.56"
   ]
  },
  {
   "cell_type": "markdown",
   "id": "7d0ac365",
   "metadata": {},
   "source": [
    "In this example, we declared a variable called my_float and assigned it the value of 7.56"
   ]
  },
  {
   "cell_type": "markdown",
   "id": "e3a854cc",
   "metadata": {},
   "source": [
    "**Note:** It's important to note that variable names are case-sensitive in Python. This means that _my_int and My_int_ are considered two different variables. Variable names can consist of letters, numbers, and underscores, but they cannot begin with a number."
   ]
  },
  {
   "cell_type": "markdown",
   "id": "a1096612",
   "metadata": {},
   "source": [
    "We can also assign a new value to an existing variable simply by using the equals sign (=) again. For example:"
   ]
  },
  {
   "cell_type": "code",
   "execution_count": 11,
   "id": "9ba16e20",
   "metadata": {},
   "outputs": [],
   "source": [
    "my_int = 20"
   ]
  },
  {
   "cell_type": "code",
   "execution_count": 12,
   "id": "f5947358",
   "metadata": {},
   "outputs": [
    {
     "name": "stdout",
     "output_type": "stream",
     "text": [
      "20\n"
     ]
    }
   ],
   "source": [
    "print(my_int)"
   ]
  },
  {
   "cell_type": "markdown",
   "id": "eb966576",
   "metadata": {},
   "source": [
    "In this example, we reassigned the value of the my_int variable to 20.\n",
    "\n",
    "Now that we know how to declare and assign number variables in Python, let's move on to performing arithmetic operations with them."
   ]
  },
  {
   "cell_type": "markdown",
   "id": "877fb055",
   "metadata": {},
   "source": [
    "### Arithmetic Operations\n",
    "Python provides basic arithmetic operators that you can use to perform arithmetic operations with number variables. Here are the basic arithmetic operators in Python:\n",
    "\n",
    "| Operator | Description |\n",
    "| :- | -: |\n",
    "| **+** | Addition |\n",
    "| **-** | Subtraction |\n",
    "| * | Multiplication |\n",
    "| **/** | Division |\n",
    "| **%** | Modulo (remainder) |\n",
    "| ** | Exponentiation |\n",
    "\n",
    "\n",
    "Let's see how we can use these operators with number variables in Python.\n",
    "\n"
   ]
  },
  {
   "cell_type": "code",
   "execution_count": 13,
   "id": "a9a2fe91",
   "metadata": {},
   "outputs": [
    {
     "name": "stdout",
     "output_type": "stream",
     "text": [
      "8\n"
     ]
    }
   ],
   "source": [
    "# Addition\n",
    "x = 5\n",
    "y = 3\n",
    "result = x + y\n",
    "print(result)  # Output: 8"
   ]
  },
  {
   "cell_type": "code",
   "execution_count": 14,
   "id": "68074bd9",
   "metadata": {},
   "outputs": [
    {
     "name": "stdout",
     "output_type": "stream",
     "text": [
      "2\n"
     ]
    }
   ],
   "source": [
    "# Subtraction\n",
    "x = 5\n",
    "y = 3\n",
    "result = x - y\n",
    "print(result)  # Output: 2"
   ]
  },
  {
   "cell_type": "code",
   "execution_count": 15,
   "id": "d2fc936d",
   "metadata": {},
   "outputs": [
    {
     "name": "stdout",
     "output_type": "stream",
     "text": [
      "15\n"
     ]
    }
   ],
   "source": [
    "# Multiplication\n",
    "x = 5\n",
    "y = 3\n",
    "result = x * y\n",
    "print(result)  # Output: 15"
   ]
  },
  {
   "cell_type": "code",
   "execution_count": 16,
   "id": "0ea1ac5a",
   "metadata": {},
   "outputs": [
    {
     "name": "stdout",
     "output_type": "stream",
     "text": [
      "1.6666666666666667\n"
     ]
    }
   ],
   "source": [
    "# Division\n",
    "x = 5\n",
    "y = 3\n",
    "result = x / y\n",
    "print(result)  # Output: 1.6666666666666667"
   ]
  },
  {
   "cell_type": "code",
   "execution_count": 17,
   "id": "08980b97",
   "metadata": {},
   "outputs": [
    {
     "name": "stdout",
     "output_type": "stream",
     "text": [
      "2\n"
     ]
    }
   ],
   "source": [
    "# Modulo (remainder)\n",
    "x = 5\n",
    "y = 3\n",
    "result = x % y\n",
    "print(result)  # Output: 2"
   ]
  },
  {
   "cell_type": "code",
   "execution_count": 18,
   "id": "2e52d3fb",
   "metadata": {},
   "outputs": [
    {
     "name": "stdout",
     "output_type": "stream",
     "text": [
      "125\n"
     ]
    }
   ],
   "source": [
    "# Exponentiation\n",
    "x = 5\n",
    "y = 3\n",
    "result = x ** y\n",
    "print(result)  # Output: 125"
   ]
  },
  {
   "cell_type": "markdown",
   "id": "be17de06",
   "metadata": {},
   "source": [
    "In the above examples, we assigned values to two variables, x and y, and used the arithmetic operators to perform various arithmetic operations. We assigned the result of each operation to a new variable called result, and then printed out the value of result using the print() function."
   ]
  },
  {
   "cell_type": "markdown",
   "id": "f50e8fbd",
   "metadata": {},
   "source": [
    "**Note:** It's important to note that when performing division with integers, Python will return a float result. If you want to perform integer division, you can use the double slash (//) operator."
   ]
  },
  {
   "cell_type": "code",
   "execution_count": 19,
   "id": "257392d9",
   "metadata": {},
   "outputs": [
    {
     "name": "stdout",
     "output_type": "stream",
     "text": [
      "1\n"
     ]
    }
   ],
   "source": [
    "x = 5\n",
    "y = 3\n",
    "result = x // y\n",
    "print(result)  # Output: 1"
   ]
  },
  {
   "cell_type": "markdown",
   "id": "a1fadabc",
   "metadata": {},
   "source": [
    "Now that we know how to perform arithmetic operations with number variables in Python, let's move on to comparing number variables."
   ]
  },
  {
   "cell_type": "markdown",
   "id": "efd95f0d",
   "metadata": {},
   "source": [
    "### Comparison Operators\n",
    "\n",
    "Python provides comparison operators that you can use to compare number variables. Here are the comparison operators in Python:\n",
    "\n",
    "| Operator | Description \n",
    "| :- | -: |\n",
    "| == | Equal to |\n",
    "| != | Not equal to |\n",
    "| >\t| Greater than |\n",
    "| <\t| Less than |\n",
    "| >= | Greater than or equal to |\n",
    "| <= | Less than or equal to |\n",
    "\n",
    "Let's see how we can use these operators with number variables in Python.\n",
    "\n"
   ]
  },
  {
   "cell_type": "code",
   "execution_count": 20,
   "id": "4faf6eb9",
   "metadata": {
    "scrolled": true
   },
   "outputs": [
    {
     "name": "stdout",
     "output_type": "stream",
     "text": [
      "False\n",
      "True\n",
      "True\n",
      "False\n",
      "True\n",
      "False\n"
     ]
    }
   ],
   "source": [
    "x = 5\n",
    "y = 3\n",
    "print(x == y)  # Output: False\n",
    "print(x != y)  # Output: True\n",
    "print(x > y)   # Output: True\n",
    "print(x < y)   # Output: False\n",
    "print(x >= y)  # Output: True\n",
    "print(x <= y)  # Output: False"
   ]
  },
  {
   "cell_type": "markdown",
   "id": "53ee2d20",
   "metadata": {},
   "source": [
    "In this example, we used the comparison operators to compare the values of x and y. Each comparison operator returns a boolean value (True or False) depending on whether the comparison is true or false."
   ]
  },
  {
   "cell_type": "markdown",
   "id": "daf03749",
   "metadata": {},
   "source": [
    "**Note:** It's important to note that when comparing float variables, you may encounter issues with precision. This is because floats are stored as approximations in Python. To compare float variables, you may need to use a tolerance or a library that handles floating-point arithmetic.\n",
    "\n",
    "Now that we know how to compare number variables in Python, let's move on to type conversion of python variables.\n",
    "\n",
    "### Type Conversion\n",
    "\n",
    "Sometimes we may need to convert a number variable from one type to another. Python provides built-in functions that allow us to convert number variables from one type to another.\n",
    "\n",
    "Here are the common built-in functions for type conversion in Python:\n",
    "\n",
    "| Function | Description |\n",
    "| :- | :- |\n",
    "| int(x) | Converts ***x*** to an integer |\n",
    "| float(x) | Converts ***x*** to a float |\n",
    "| str(x) | Converts ***x*** to a string |\n",
    "\n",
    "Let's see how we can use these functions to convert number variables in Python.\n",
    "\n"
   ]
  },
  {
   "cell_type": "code",
   "execution_count": 21,
   "id": "47e78574",
   "metadata": {},
   "outputs": [
    {
     "name": "stdout",
     "output_type": "stream",
     "text": [
      "3\n",
      "<class 'int'>\n"
     ]
    }
   ],
   "source": [
    "# Converting float to integer\n",
    "x = 3.14\n",
    "y = int(x)\n",
    "print(y)  # Output: 3\n",
    "print(type(y))\n"
   ]
  },
  {
   "cell_type": "code",
   "execution_count": 22,
   "id": "b0d0b187",
   "metadata": {},
   "outputs": [
    {
     "name": "stdout",
     "output_type": "stream",
     "text": [
      "5.0\n",
      "<class 'float'>\n"
     ]
    }
   ],
   "source": [
    "# Converting integer to float\n",
    "x = 5\n",
    "y = float(x)\n",
    "print(y)  # Output: 5.0\n",
    "print(type(y))\n"
   ]
  },
  {
   "cell_type": "code",
   "execution_count": 23,
   "id": "e2d8b839",
   "metadata": {},
   "outputs": [
    {
     "name": "stdout",
     "output_type": "stream",
     "text": [
      "10\n",
      "<class 'str'>\n"
     ]
    }
   ],
   "source": [
    "# Converting integer to string\n",
    "x = 10\n",
    "y = str(x)\n",
    "print(y)  # Output: '10'\n",
    "print(type(y))\n"
   ]
  },
  {
   "cell_type": "code",
   "execution_count": 24,
   "id": "dc6f123e",
   "metadata": {},
   "outputs": [
    {
     "name": "stdout",
     "output_type": "stream",
     "text": [
      "3.14\n",
      "<class 'str'>\n"
     ]
    }
   ],
   "source": [
    "# Converting float to string\n",
    "x = 3.14\n",
    "y = str(x)\n",
    "print(y)  # Output: '3.14'\n",
    "print(type(y))\n"
   ]
  },
  {
   "cell_type": "markdown",
   "id": "16f504f7",
   "metadata": {},
   "source": [
    "In these examples, we used the int(), float(), and str() functions to convert number variables from one type to another.\n",
    "\n",
    "**Note:** It's important to note that when converting a float to an integer, Python will truncate the decimal part of the float. This means that int(3.14) will return 3. If you want to round a float to the nearest integer, you can use the round() function."
   ]
  },
  {
   "cell_type": "code",
   "execution_count": 25,
   "id": "342bd12c",
   "metadata": {},
   "outputs": [
    {
     "name": "stdout",
     "output_type": "stream",
     "text": [
      "4\n"
     ]
    }
   ],
   "source": [
    "x = 3.6\n",
    "y = round(x)\n",
    "print(y)  # Output: 4"
   ]
  },
  {
   "cell_type": "markdown",
   "id": "2476e9a3",
   "metadata": {},
   "source": [
    "Now that we know how to convert number variables in Python, let's move on to some common built-in functions that you can use with number variables.\n",
    "\n",
    "### Common built-in functions\n",
    "Python provides many built-in functions that you can use with number variables. Here are some of the most common ones:\n",
    "\n",
    "| Function | Description |\n",
    "| :- | :- |\n",
    "| abs(x) | Returns the absolute value of x |\n",
    "| pow(x, y)\t| Returns x to the power of y |\n",
    "| round(x, n) |\tReturns x rounded to n decimal places |\n",
    "| max(x1, x2, ..., xn) | Returns the largest number among x1, x2, ..., xn |\n",
    "| min(x1, x2, ..., xn) | Returns the smallest number among x1, x2, ..., xn |\n",
    "\n",
    "Let's see how we can use these functions with number variables in Python.\n",
    "\n"
   ]
  },
  {
   "cell_type": "code",
   "execution_count": 26,
   "id": "7ac10c8b",
   "metadata": {},
   "outputs": [
    {
     "name": "stdout",
     "output_type": "stream",
     "text": [
      "5\n"
     ]
    }
   ],
   "source": [
    "# Finding the absolute value of a number\n",
    "x = -5\n",
    "y = abs(x)\n",
    "print(y)  # Output: 5\n"
   ]
  },
  {
   "cell_type": "code",
   "execution_count": 27,
   "id": "db36654e",
   "metadata": {},
   "outputs": [
    {
     "name": "stdout",
     "output_type": "stream",
     "text": [
      "8\n"
     ]
    }
   ],
   "source": [
    "# Finding the power of a number\n",
    "x = 2\n",
    "y = pow(x, 3)\n",
    "print(y)  # Output: 8\n"
   ]
  },
  {
   "cell_type": "code",
   "execution_count": 28,
   "id": "bbcd8138",
   "metadata": {},
   "outputs": [
    {
     "name": "stdout",
     "output_type": "stream",
     "text": [
      "3.14\n"
     ]
    }
   ],
   "source": [
    "# Rounding a number to a given number of decimal places\n",
    "x = 3.14159\n",
    "y = round(x, 2)\n",
    "print(y)  # Output: 3.14\n"
   ]
  },
  {
   "cell_type": "code",
   "execution_count": 29,
   "id": "947ab639",
   "metadata": {},
   "outputs": [
    {
     "name": "stdout",
     "output_type": "stream",
     "text": [
      "10\n"
     ]
    }
   ],
   "source": [
    "# Finding the largest number among a list of numbers\n",
    "x = [5, 10, 2, 8]\n",
    "y = max(x)\n",
    "print(y)  # Output: 10\n"
   ]
  },
  {
   "cell_type": "code",
   "execution_count": 30,
   "id": "97798158",
   "metadata": {},
   "outputs": [
    {
     "name": "stdout",
     "output_type": "stream",
     "text": [
      "2\n"
     ]
    }
   ],
   "source": [
    "# Finding the smallest number among a list of numbers\n",
    "x = [5, 10, 2, 8]\n",
    "y = min(x)\n",
    "print(y)  # Output: 2\n"
   ]
  },
  {
   "cell_type": "markdown",
   "id": "27b3ef1f",
   "metadata": {},
   "source": [
    "In the above examples, we used the built-in functions to perform common operations on number variables. Python provides many other built-in functions for working with number variables, such as sum(), divmod(), and complex(). You can find more information about these functions in the Python documentation."
   ]
  },
  {
   "cell_type": "markdown",
   "id": "565b3a6e",
   "metadata": {},
   "source": [
    "## Conclusion\n",
    "By now, we covered a range of topics related to number variables in Python, including their types, how to declare and assign them, and how to perform arithmetic and comparison operations on them. We also explored some common built-in functions that can be used with number variables.\n",
    "\n",
    "By understanding these concepts, you should now have a good grasp of how to work with number variables in Python, and be able to write programs that perform a wide range of mathematical operations. Remember, practice makes perfect, so be sure to experiment with the examples in this lecture and continue learning more about Python programming."
   ]
  }
 ],
 "metadata": {
  "kernelspec": {
   "display_name": "Python 3 (ipykernel)",
   "language": "python",
   "name": "python3"
  },
  "language_info": {
   "codemirror_mode": {
    "name": "ipython",
    "version": 3
   },
   "file_extension": ".py",
   "mimetype": "text/x-python",
   "name": "python",
   "nbconvert_exporter": "python",
   "pygments_lexer": "ipython3",
   "version": "3.10.9"
  }
 },
 "nbformat": 4,
 "nbformat_minor": 5
}
